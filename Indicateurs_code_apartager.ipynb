{
 "cells": [
  {
   "cell_type": "markdown",
   "metadata": {},
   "source": [
    "# Code analyse indicateurs\n",
    "\n",
    "Ce code R permet de reproduire les résultats du manuscrit intitulé \n",
    "\n",
    "_Comment les enseignants évaluent-ils leurs pratiques ? Analyse des indicateurs mobilisés dans des projets de recherche menés par des enseignants en France_\n",
    "\n",
    "**Auteurs**: Ignacio Atal, Maëlle Crosse, Elsa Chusseau, Marine Lanteri, Cyril Drouot\n",
    "\n",
    "Les données nécessaires sont disponibles dans le repositoire GitHub [https://github.com/iatal/indicateursPCh](https://github.com/iatal/indicateursPCh)\n",
    "\n",
    "**Remarque:**\n",
    "- Les données démographiques des co-auteurs des défis (genre, secteur de l'éducation, rôle dans l'éducation, ...) ne sont pas raccordées aux défis auxquels ils sont co-auteurs afin d'éviter tout risque d'identification des personnes et partage de données personnelles."
   ]
  },
  {
   "cell_type": "code",
   "execution_count": 1,
   "metadata": {},
   "outputs": [
    {
     "name": "stdout",
     "output_type": "stream",
     "text": [
      "Ce code a été conçu avec la version R suivante:"
     ]
    },
    {
     "data": {
      "text/html": [
       "'R version 3.6.3 (2020-02-29)'"
      ],
      "text/latex": [
       "'R version 3.6.3 (2020-02-29)'"
      ],
      "text/markdown": [
       "'R version 3.6.3 (2020-02-29)'"
      ],
      "text/plain": [
       "[1] \"R version 3.6.3 (2020-02-29)\""
      ]
     },
     "metadata": {},
     "output_type": "display_data"
    }
   ],
   "source": [
    "cat(\"Ce code a été conçu avec la version R suivante:\")\n",
    "R.Version()$version.string"
   ]
  },
  {
   "cell_type": "markdown",
   "metadata": {},
   "source": [
    "## Upload data"
   ]
  },
  {
   "cell_type": "code",
   "execution_count": 2,
   "metadata": {},
   "outputs": [],
   "source": [
    "DI <- read.csv(\"Indicateurs_donnees_propres.csv\")\n",
    "DD <- read.csv(\"Defis_donnes_propres.csv\")\n",
    "DA <- read.csv(\"Coauteurs_donnes_propres.csv\")"
   ]
  },
  {
   "cell_type": "code",
   "execution_count": 3,
   "metadata": {},
   "outputs": [
    {
     "name": "stdout",
     "output_type": "stream",
     "text": [
      "Noms des variables données indicateurs:"
     ]
    },
    {
     "data": {
      "text/html": [
       "<style>\n",
       ".list-inline {list-style: none; margin:0; padding: 0}\n",
       ".list-inline>li {display: inline-block}\n",
       ".list-inline>li:not(:last-child)::after {content: \"\\00b7\"; padding: 0 .5ex}\n",
       "</style>\n",
       "<ol class=list-inline><li>'defi'</li><li>'Intitulé'</li><li>'cat_defi'</li><li>'nb_coauteurs'</li><li>'Indicateur'</li><li>'Quelle.donnée.faut.il.surveiller..'</li><li>'Exemples.de.réponses.possibles'</li><li>'Afin.de.suivre.les.progrès..à.quelle.fréquence.est.il.nécessaire.de.surveiller.cette.donnée..'</li><li>'Qui.peut.renseigner.cette.donnée..'</li><li>'Champ.d.application'</li><li>'clarte_cons'</li><li>'cible_cons'</li><li>'qua_cons'</li><li>'finpro_cons'</li><li>'clarte_rev1'</li><li>'clarte_rev2'</li><li>'cible_rev1'</li><li>'cible_rev2'</li><li>'qua_rev1'</li><li>'qua_rev2'</li><li>'finpro_rev1'</li><li>'finpro_rev2'</li><li>'rev_id_12'</li></ol>\n"
      ],
      "text/latex": [
       "\\begin{enumerate*}\n",
       "\\item 'defi'\n",
       "\\item 'Intitulé'\n",
       "\\item 'cat\\_defi'\n",
       "\\item 'nb\\_coauteurs'\n",
       "\\item 'Indicateur'\n",
       "\\item 'Quelle.donnée.faut.il.surveiller..'\n",
       "\\item 'Exemples.de.réponses.possibles'\n",
       "\\item 'Afin.de.suivre.les.progrès..à.quelle.fréquence.est.il.nécessaire.de.surveiller.cette.donnée..'\n",
       "\\item 'Qui.peut.renseigner.cette.donnée..'\n",
       "\\item 'Champ.d.application'\n",
       "\\item 'clarte\\_cons'\n",
       "\\item 'cible\\_cons'\n",
       "\\item 'qua\\_cons'\n",
       "\\item 'finpro\\_cons'\n",
       "\\item 'clarte\\_rev1'\n",
       "\\item 'clarte\\_rev2'\n",
       "\\item 'cible\\_rev1'\n",
       "\\item 'cible\\_rev2'\n",
       "\\item 'qua\\_rev1'\n",
       "\\item 'qua\\_rev2'\n",
       "\\item 'finpro\\_rev1'\n",
       "\\item 'finpro\\_rev2'\n",
       "\\item 'rev\\_id\\_12'\n",
       "\\end{enumerate*}\n"
      ],
      "text/markdown": [
       "1. 'defi'\n",
       "2. 'Intitulé'\n",
       "3. 'cat_defi'\n",
       "4. 'nb_coauteurs'\n",
       "5. 'Indicateur'\n",
       "6. 'Quelle.donnée.faut.il.surveiller..'\n",
       "7. 'Exemples.de.réponses.possibles'\n",
       "8. 'Afin.de.suivre.les.progrès..à.quelle.fréquence.est.il.nécessaire.de.surveiller.cette.donnée..'\n",
       "9. 'Qui.peut.renseigner.cette.donnée..'\n",
       "10. 'Champ.d.application'\n",
       "11. 'clarte_cons'\n",
       "12. 'cible_cons'\n",
       "13. 'qua_cons'\n",
       "14. 'finpro_cons'\n",
       "15. 'clarte_rev1'\n",
       "16. 'clarte_rev2'\n",
       "17. 'cible_rev1'\n",
       "18. 'cible_rev2'\n",
       "19. 'qua_rev1'\n",
       "20. 'qua_rev2'\n",
       "21. 'finpro_rev1'\n",
       "22. 'finpro_rev2'\n",
       "23. 'rev_id_12'\n",
       "\n",
       "\n"
      ],
      "text/plain": [
       " [1] \"defi\"                                                                                         \n",
       " [2] \"Intitulé\"                                                                                     \n",
       " [3] \"cat_defi\"                                                                                     \n",
       " [4] \"nb_coauteurs\"                                                                                 \n",
       " [5] \"Indicateur\"                                                                                   \n",
       " [6] \"Quelle.donnée.faut.il.surveiller..\"                                                           \n",
       " [7] \"Exemples.de.réponses.possibles\"                                                               \n",
       " [8] \"Afin.de.suivre.les.progrès..à.quelle.fréquence.est.il.nécessaire.de.surveiller.cette.donnée..\"\n",
       " [9] \"Qui.peut.renseigner.cette.donnée..\"                                                           \n",
       "[10] \"Champ.d.application\"                                                                          \n",
       "[11] \"clarte_cons\"                                                                                  \n",
       "[12] \"cible_cons\"                                                                                   \n",
       "[13] \"qua_cons\"                                                                                     \n",
       "[14] \"finpro_cons\"                                                                                  \n",
       "[15] \"clarte_rev1\"                                                                                  \n",
       "[16] \"clarte_rev2\"                                                                                  \n",
       "[17] \"cible_rev1\"                                                                                   \n",
       "[18] \"cible_rev2\"                                                                                   \n",
       "[19] \"qua_rev1\"                                                                                     \n",
       "[20] \"qua_rev2\"                                                                                     \n",
       "[21] \"finpro_rev1\"                                                                                  \n",
       "[22] \"finpro_rev2\"                                                                                  \n",
       "[23] \"rev_id_12\"                                                                                    "
      ]
     },
     "metadata": {},
     "output_type": "display_data"
    }
   ],
   "source": [
    "cat(\"Noms des variables données indicateurs:\")\n",
    "names(DI)"
   ]
  },
  {
   "cell_type": "markdown",
   "metadata": {},
   "source": [
    "Une ligne par indicateur:\n",
    "- `defi`: numéro unique du défi\n",
    "- `Intitulé`: intitulé du défi\n",
    "- `cat_defi`: catégorie du défi selon la thématique éducative\n",
    "- `nb_coauteurs`: nombre de co-auteurs du défi correspondant\n",
    "- `Indicateur`: identifiant unique de l'indicateur au sein du défi\n",
    "- `Quelle.donnée....`, `Exemples.de.réponses...`, `Afin.de.suivre...`, `Qui.peut.renseigner...`, `Champ.d.app...`: verbatims extraits des tableaux des indicateurs de chaque défi servant de base pour le codage\n",
    "- `clarte_cons`: consensus trouvé par l'équipe de recherche à la question: _\"Est-ce que l'énoncé de l’indicateur est clair/compréhensible ?\"_\n",
    "- `cible_cons`: consensus trouvé par l'équipe de recherche à la question: _\"Est-ce que l'indicateur permet d’évaluer précisément le ou les objectifs (pédagogiques/éducatifs) du Défi ?\"_\n",
    "- `qua_cons`: consensus trouvé par l'équipe de recherche à la question: _\"Est-ce que l’indicateur est quantitatif ou qualitatif ?\"_\n",
    "- `finpro_cons`: consensus trouvé par l'équipe de recherche à la question: _\"Est-ce que l'indicateur permet de rendre compte de l’atteinte d’une finalité pédagogique ou de la mise en place d’un processus pédagogique ?\"_\n",
    "- `clarte_rev1`, `clarte_rev1`, `clarte_rev2`, `cible_rev1`, `cible_rev2`, `qua_rev1`, `qua_rev2`, `finpro_rev1`, `finpro_rev2`: réponses données par les anotateurs 1 et 2 pour chacune des 4 questions de la grille d'analyse\n",
    "- `rev_id_12`: identité des anotateurs 1 et 2 (dans l'ordre)"
   ]
  },
  {
   "cell_type": "code",
   "execution_count": 4,
   "metadata": {
    "scrolled": false
   },
   "outputs": [
    {
     "name": "stdout",
     "output_type": "stream",
     "text": [
      "Noms des variables données défi:"
     ]
    },
    {
     "data": {
      "text/html": [
       "<style>\n",
       ".list-inline {list-style: none; margin:0; padding: 0}\n",
       ".list-inline>li {display: inline-block}\n",
       ".list-inline>li:not(:last-child)::after {content: \"\\00b7\"; padding: 0 .5ex}\n",
       "</style>\n",
       "<ol class=list-inline><li>'defi'</li><li>'Intitule'</li><li>'cat_defi_rev1'</li><li>'cat_defi_rev2'</li><li>'cat_defi_cons'</li><li>'nb_coauteurs'</li></ol>\n"
      ],
      "text/latex": [
       "\\begin{enumerate*}\n",
       "\\item 'defi'\n",
       "\\item 'Intitule'\n",
       "\\item 'cat\\_defi\\_rev1'\n",
       "\\item 'cat\\_defi\\_rev2'\n",
       "\\item 'cat\\_defi\\_cons'\n",
       "\\item 'nb\\_coauteurs'\n",
       "\\end{enumerate*}\n"
      ],
      "text/markdown": [
       "1. 'defi'\n",
       "2. 'Intitule'\n",
       "3. 'cat_defi_rev1'\n",
       "4. 'cat_defi_rev2'\n",
       "5. 'cat_defi_cons'\n",
       "6. 'nb_coauteurs'\n",
       "\n",
       "\n"
      ],
      "text/plain": [
       "[1] \"defi\"          \"Intitule\"      \"cat_defi_rev1\" \"cat_defi_rev2\"\n",
       "[5] \"cat_defi_cons\" \"nb_coauteurs\" "
      ]
     },
     "metadata": {},
     "output_type": "display_data"
    }
   ],
   "source": [
    "cat(\"Noms des variables données défi:\")\n",
    "names(DD)"
   ]
  },
  {
   "cell_type": "markdown",
   "metadata": {},
   "source": [
    "Une ligne par défi\n",
    "- `defi`: numéro unique du défi\n",
    "- `Intitulé`: intitulé du défi\n",
    "- `nb_coauteurs`: nombre de co-auteurs du défi correspondant\n",
    "- `cat_defi_cons`: consensus trouvé par l'équipe de recherche concernant la catégorie du défi selon la thématique éducative\n",
    "- `cat_defi_rev1`,`cat_defi_rev2`: réponses données par les anotateurs 1 et 2 pour la catégorie du défi"
   ]
  },
  {
   "cell_type": "code",
   "execution_count": 5,
   "metadata": {},
   "outputs": [
    {
     "name": "stdout",
     "output_type": "stream",
     "text": [
      "Noms des variables données co-auteurs:"
     ]
    },
    {
     "data": {
      "text/html": [
       "<style>\n",
       ".list-inline {list-style: none; margin:0; padding: 0}\n",
       ".list-inline>li {display: inline-block}\n",
       ".list-inline>li:not(:last-child)::after {content: \"\\00b7\"; padding: 0 .5ex}\n",
       "</style>\n",
       "<ol class=list-inline><li>'user_id'</li><li>'Genre'</li><li>'is_teaching'</li><li>'is_preservice'</li><li>'is_formateur'</li><li>'is_directeur'</li><li>'is_inspecteur'</li><li>'is_other_role'</li><li>'is_researcher'</li><li>'teaching_level'</li><li>'trainer_support_level'</li></ol>\n"
      ],
      "text/latex": [
       "\\begin{enumerate*}\n",
       "\\item 'user\\_id'\n",
       "\\item 'Genre'\n",
       "\\item 'is\\_teaching'\n",
       "\\item 'is\\_preservice'\n",
       "\\item 'is\\_formateur'\n",
       "\\item 'is\\_directeur'\n",
       "\\item 'is\\_inspecteur'\n",
       "\\item 'is\\_other\\_role'\n",
       "\\item 'is\\_researcher'\n",
       "\\item 'teaching\\_level'\n",
       "\\item 'trainer\\_support\\_level'\n",
       "\\end{enumerate*}\n"
      ],
      "text/markdown": [
       "1. 'user_id'\n",
       "2. 'Genre'\n",
       "3. 'is_teaching'\n",
       "4. 'is_preservice'\n",
       "5. 'is_formateur'\n",
       "6. 'is_directeur'\n",
       "7. 'is_inspecteur'\n",
       "8. 'is_other_role'\n",
       "9. 'is_researcher'\n",
       "10. 'teaching_level'\n",
       "11. 'trainer_support_level'\n",
       "\n",
       "\n"
      ],
      "text/plain": [
       " [1] \"user_id\"               \"Genre\"                 \"is_teaching\"          \n",
       " [4] \"is_preservice\"         \"is_formateur\"          \"is_directeur\"         \n",
       " [7] \"is_inspecteur\"         \"is_other_role\"         \"is_researcher\"        \n",
       "[10] \"teaching_level\"        \"trainer_support_level\""
      ]
     },
     "metadata": {},
     "output_type": "display_data"
    }
   ],
   "source": [
    "cat(\"Noms des variables données co-auteurs:\")\n",
    "names(DA)"
   ]
  },
  {
   "cell_type": "markdown",
   "metadata": {},
   "source": [
    "Une ligne par co-auteur\n",
    "- `user_id`: numéro unique par co-auteur\n",
    "- `Genre`: genre\n",
    "- `is_teaching`: est-ce que la personne est enseignant·e\n",
    "- `is_preservice`: est-ce que la personne est étudiant·e en vue de devenir enseignant·e\n",
    "- `is_formateur`: est-ce que la personne est formateur·rice ou accompagnateur·rice pédagogique d'enseignant·es: formateur·rice, conseiller pédagogique, ingénieur pédagogique, ...\n",
    "- `is_directeur`: est-ce que la personne est personnel d'encadrement dans un établissement éducatif (directeur, principal, proviseur, ...\n",
    "- `is_inspecteur`: est-ce que la personne a une mission d'encadrement à un niveau territorial: inspecteur·rice, rôle au niveau d'une académie de l'éducation nationale, VP université, ...\n",
    "- `is_researcher`: est-ce que la personne est chercheur·se académique/universitaire sur des thématiques en lien avec l'éducation et la formation\n",
    "- `is_other`: est-ce que la personne a un autre rôle (membre associatif, accompagnant éducatif et social, psychologue scolaire, ...)\n",
    "- `teaching_level`: pour les personnes avec le rôle enseignant ou preservice, dans quel secteur de l'éducation elles enseignent (primaire, secondaire, supérieur, autre)\n",
    "- `trainer_support_level`: pour les personnes avec le rôle formateur, directeur ou inspecteur, dans quel secteur de l'éducation ils agissent"
   ]
  },
  {
   "cell_type": "markdown",
   "metadata": {},
   "source": [
    "## Description co-auteurs"
   ]
  },
  {
   "cell_type": "code",
   "execution_count": 6,
   "metadata": {},
   "outputs": [
    {
     "name": "stdout",
     "output_type": "stream",
     "text": [
      "Nombre de co-auteurs ayant consenti à utiliser leurs données démographiques: 94"
     ]
    }
   ],
   "source": [
    "#Nombre de co-auteurs\n",
    "cat(paste(\"Nombre de co-auteurs ayant consenti à utiliser leurs données démographiques:\",nrow(DA)))"
   ]
  },
  {
   "cell_type": "code",
   "execution_count": 7,
   "metadata": {},
   "outputs": [
    {
     "name": "stdout",
     "output_type": "stream",
     "text": [
      "Genre (A/B/N: Autre, binaire, non rapporté)"
     ]
    },
    {
     "data": {
      "text/html": [
       "<table class=\"dataframe\">\n",
       "<caption>A matrix: 3 × 2 of type dbl</caption>\n",
       "<thead>\n",
       "\t<tr><th></th><th scope=col>nb</th><th scope=col>pourc</th></tr>\n",
       "</thead>\n",
       "<tbody>\n",
       "\t<tr><th scope=row>A/B/NR</th><td> 6</td><td> 6.4</td></tr>\n",
       "\t<tr><th scope=row>F</th><td>58</td><td>61.7</td></tr>\n",
       "\t<tr><th scope=row>M</th><td>30</td><td>31.9</td></tr>\n",
       "</tbody>\n",
       "</table>\n"
      ],
      "text/latex": [
       "A matrix: 3 × 2 of type dbl\n",
       "\\begin{tabular}{r|ll}\n",
       "  & nb & pourc\\\\\n",
       "\\hline\n",
       "\tA/B/NR &  6 &  6.4\\\\\n",
       "\tF & 58 & 61.7\\\\\n",
       "\tM & 30 & 31.9\\\\\n",
       "\\end{tabular}\n"
      ],
      "text/markdown": [
       "\n",
       "A matrix: 3 × 2 of type dbl\n",
       "\n",
       "| <!--/--> | nb | pourc |\n",
       "|---|---|---|\n",
       "| A/B/NR |  6 |  6.4 |\n",
       "| F | 58 | 61.7 |\n",
       "| M | 30 | 31.9 |\n",
       "\n"
      ],
      "text/plain": [
       "       nb pourc\n",
       "A/B/NR  6  6.4 \n",
       "F      58 61.7 \n",
       "M      30 31.9 "
      ]
     },
     "metadata": {},
     "output_type": "display_data"
    }
   ],
   "source": [
    "cat(\"Genre (A/B/N: Autre, binaire, non rapporté)\")\n",
    "cbind(nb = table(DA$Genre),\n",
    "pourc = round(100*table(DA$Genre)/nrow(DA),1))"
   ]
  },
  {
   "cell_type": "code",
   "execution_count": 8,
   "metadata": {},
   "outputs": [
    {
     "name": "stdout",
     "output_type": "stream",
     "text": [
      "Distribution par rôle"
     ]
    },
    {
     "data": {
      "text/html": [
       "<table class=\"dataframe\">\n",
       "<caption>A data.frame: 7 × 3</caption>\n",
       "<thead>\n",
       "\t<tr><th scope=col>role</th><th scope=col>nb</th><th scope=col>pourc</th></tr>\n",
       "\t<tr><th scope=col>&lt;fct&gt;</th><th scope=col>&lt;int&gt;</th><th scope=col>&lt;dbl&gt;</th></tr>\n",
       "</thead>\n",
       "<tbody>\n",
       "\t<tr><td>Enseignant·e                        </td><td>62</td><td>66.0</td></tr>\n",
       "\t<tr><td>Etudiant·e pour devenir enseignant·e</td><td> 1</td><td> 1.1</td></tr>\n",
       "\t<tr><td>Formateur                           </td><td>31</td><td>33.0</td></tr>\n",
       "\t<tr><td>Directeur                           </td><td>12</td><td>12.8</td></tr>\n",
       "\t<tr><td>Inspecteur                          </td><td> 6</td><td> 6.4</td></tr>\n",
       "\t<tr><td>Chercheur                           </td><td> 8</td><td> 8.5</td></tr>\n",
       "\t<tr><td>Autre                               </td><td> 7</td><td> 7.4</td></tr>\n",
       "</tbody>\n",
       "</table>\n"
      ],
      "text/latex": [
       "A data.frame: 7 × 3\n",
       "\\begin{tabular}{lll}\n",
       " role & nb & pourc\\\\\n",
       " <fct> & <int> & <dbl>\\\\\n",
       "\\hline\n",
       "\t Enseignant·e                         & 62 & 66.0\\\\\n",
       "\t Etudiant·e pour devenir enseignant·e &  1 &  1.1\\\\\n",
       "\t Formateur                            & 31 & 33.0\\\\\n",
       "\t Directeur                            & 12 & 12.8\\\\\n",
       "\t Inspecteur                           &  6 &  6.4\\\\\n",
       "\t Chercheur                            &  8 &  8.5\\\\\n",
       "\t Autre                                &  7 &  7.4\\\\\n",
       "\\end{tabular}\n"
      ],
      "text/markdown": [
       "\n",
       "A data.frame: 7 × 3\n",
       "\n",
       "| role &lt;fct&gt; | nb &lt;int&gt; | pourc &lt;dbl&gt; |\n",
       "|---|---|---|\n",
       "| Enseignant·e                         | 62 | 66.0 |\n",
       "| Etudiant·e pour devenir enseignant·e |  1 |  1.1 |\n",
       "| Formateur                            | 31 | 33.0 |\n",
       "| Directeur                            | 12 | 12.8 |\n",
       "| Inspecteur                           |  6 |  6.4 |\n",
       "| Chercheur                            |  8 |  8.5 |\n",
       "| Autre                                |  7 |  7.4 |\n",
       "\n"
      ],
      "text/plain": [
       "  role                                 nb pourc\n",
       "1 Enseignant·e                         62 66.0 \n",
       "2 Etudiant·e pour devenir enseignant·e  1  1.1 \n",
       "3 Formateur                            31 33.0 \n",
       "4 Directeur                            12 12.8 \n",
       "5 Inspecteur                            6  6.4 \n",
       "6 Chercheur                             8  8.5 \n",
       "7 Autre                                 7  7.4 "
      ]
     },
     "metadata": {},
     "output_type": "display_data"
    }
   ],
   "source": [
    "cat(\"Distribution par rôle\")\n",
    "do.call(\"rbind\",list(\n",
    "data.frame(role = \"Enseignant·e\",\n",
    "nb = sum(DA$is_teaching),\n",
    "pourc = round(100*sum(DA$is_teaching)/nrow(DA),1)),\n",
    "\n",
    "data.frame(role = \"Etudiant·e pour devenir enseignant·e\",\n",
    "nb = sum(DA$is_preservice),\n",
    "pourc = round(100*sum(DA$is_preservice)/nrow(DA),1)),\n",
    "\n",
    "data.frame(role = \"Formateur\",\n",
    "nb = sum(DA$is_formateur),\n",
    "pourc = round(100*sum(DA$is_formateur)/nrow(DA),1)),\n",
    "\n",
    "data.frame(role = \"Directeur\",\n",
    "nb = sum(DA$is_directeur),\n",
    "pourc = round(100*sum(DA$is_directeur)/nrow(DA),1)),\n",
    "\n",
    "data.frame(role = \"Inspecteur\",\n",
    "nb = sum(DA$is_inspecteur),\n",
    "pourc = round(100*sum(DA$is_inspecteur)/nrow(DA),1)),\n",
    "\n",
    "data.frame(role = \"Chercheur\",\n",
    "nb = sum(DA$is_researcher),\n",
    "pourc = round(100*sum(DA$is_researcher)/nrow(DA),1)),\n",
    "\n",
    "data.frame(role = \"Autre\",\n",
    "nb = sum(DA$is_other),\n",
    "pourc = round(100*sum(DA$is_other)/nrow(DA),1))))\n"
   ]
  },
  {
   "cell_type": "code",
   "execution_count": 9,
   "metadata": {},
   "outputs": [
    {
     "name": "stdout",
     "output_type": "stream",
     "text": [
      "Distribution par secteur de l'éducation pour les enseignants"
     ]
    },
    {
     "data": {
      "text/html": [
       "<table class=\"dataframe\">\n",
       "<caption>A matrix: 6 × 2 of type dbl</caption>\n",
       "<thead>\n",
       "\t<tr><th></th><th scope=col>nb</th><th scope=col>pourc</th></tr>\n",
       "</thead>\n",
       "<tbody>\n",
       "\t<tr><th scope=row></th><td> 0</td><td> 0.0</td></tr>\n",
       "\t<tr><th scope=row>autre</th><td> 2</td><td> 2.1</td></tr>\n",
       "\t<tr><th scope=row>primaire</th><td>17</td><td>18.1</td></tr>\n",
       "\t<tr><th scope=row>secondaire</th><td>35</td><td>37.2</td></tr>\n",
       "\t<tr><th scope=row>supérieur</th><td> 8</td><td> 8.5</td></tr>\n",
       "\t<tr><th scope=row>NA</th><td> 0</td><td> 0.0</td></tr>\n",
       "</tbody>\n",
       "</table>\n"
      ],
      "text/latex": [
       "A matrix: 6 × 2 of type dbl\n",
       "\\begin{tabular}{r|ll}\n",
       "  & nb & pourc\\\\\n",
       "\\hline\n",
       "\t &  0 &  0.0\\\\\n",
       "\tautre &  2 &  2.1\\\\\n",
       "\tprimaire & 17 & 18.1\\\\\n",
       "\tsecondaire & 35 & 37.2\\\\\n",
       "\tsupérieur &  8 &  8.5\\\\\n",
       "\tNA &  0 &  0.0\\\\\n",
       "\\end{tabular}\n"
      ],
      "text/markdown": [
       "\n",
       "A matrix: 6 × 2 of type dbl\n",
       "\n",
       "| <!--/--> | nb | pourc |\n",
       "|---|---|---|\n",
       "| <!----> |  0 |  0.0 |\n",
       "| autre |  2 |  2.1 |\n",
       "| primaire | 17 | 18.1 |\n",
       "| secondaire | 35 | 37.2 |\n",
       "| supérieur |  8 |  8.5 |\n",
       "| NA |  0 |  0.0 |\n",
       "\n"
      ],
      "text/plain": [
       "           nb pourc\n",
       "            0  0.0 \n",
       "autre       2  2.1 \n",
       "primaire   17 18.1 \n",
       "secondaire 35 37.2 \n",
       "supérieur   8  8.5 \n",
       "<NA>        0  0.0 "
      ]
     },
     "metadata": {},
     "output_type": "display_data"
    }
   ],
   "source": [
    "#Secteur de l'éducation enseignants\n",
    "cat(\"Distribution par secteur de l'éducation pour les enseignants\")\n",
    "\n",
    "cbind(\n",
    "    nb = table(DA$teaching_level[DA$is_teaching | DA$is_preservice], useNA = 'always'),\n",
    "    pourc = round(100*table(DA$teaching_level[DA$is_teaching | DA$is_preservice], useNA = 'always')/\n",
    "          nrow(DA),1))\n"
   ]
  },
  {
   "cell_type": "code",
   "execution_count": 10,
   "metadata": {},
   "outputs": [
    {
     "name": "stdout",
     "output_type": "stream",
     "text": [
      "Distribution par secteur de l'éducation pour les formateurs, chefs établissement, etc"
     ]
    },
    {
     "data": {
      "text/html": [
       "<table class=\"dataframe\">\n",
       "<caption>A matrix: 6 × 2 of type dbl</caption>\n",
       "<thead>\n",
       "\t<tr><th></th><th scope=col>nb</th><th scope=col>pourc</th></tr>\n",
       "</thead>\n",
       "<tbody>\n",
       "\t<tr><th scope=row></th><td> 0</td><td> 0.0</td></tr>\n",
       "\t<tr><th scope=row>autre</th><td> 4</td><td> 4.3</td></tr>\n",
       "\t<tr><th scope=row>primaire</th><td>12</td><td>12.8</td></tr>\n",
       "\t<tr><th scope=row>secondaire</th><td>24</td><td>25.5</td></tr>\n",
       "\t<tr><th scope=row>supérieur</th><td>12</td><td>12.8</td></tr>\n",
       "\t<tr><th scope=row>NA</th><td> 0</td><td> 0.0</td></tr>\n",
       "</tbody>\n",
       "</table>\n"
      ],
      "text/latex": [
       "A matrix: 6 × 2 of type dbl\n",
       "\\begin{tabular}{r|ll}\n",
       "  & nb & pourc\\\\\n",
       "\\hline\n",
       "\t &  0 &  0.0\\\\\n",
       "\tautre &  4 &  4.3\\\\\n",
       "\tprimaire & 12 & 12.8\\\\\n",
       "\tsecondaire & 24 & 25.5\\\\\n",
       "\tsupérieur & 12 & 12.8\\\\\n",
       "\tNA &  0 &  0.0\\\\\n",
       "\\end{tabular}\n"
      ],
      "text/markdown": [
       "\n",
       "A matrix: 6 × 2 of type dbl\n",
       "\n",
       "| <!--/--> | nb | pourc |\n",
       "|---|---|---|\n",
       "| <!----> |  0 |  0.0 |\n",
       "| autre |  4 |  4.3 |\n",
       "| primaire | 12 | 12.8 |\n",
       "| secondaire | 24 | 25.5 |\n",
       "| supérieur | 12 | 12.8 |\n",
       "| NA |  0 |  0.0 |\n",
       "\n"
      ],
      "text/plain": [
       "           nb pourc\n",
       "            0  0.0 \n",
       "autre       4  4.3 \n",
       "primaire   12 12.8 \n",
       "secondaire 24 25.5 \n",
       "supérieur  12 12.8 \n",
       "<NA>        0  0.0 "
      ]
     },
     "metadata": {},
     "output_type": "display_data"
    }
   ],
   "source": [
    "#Secteur de l'éducation formateurs, chefs établissement, etc...\n",
    "cat(\"Distribution par secteur de l'éducation pour les formateurs, chefs établissement, etc\")\n",
    "\n",
    "cbind(\n",
    "    nb = table(DA$trainer_support_level[DA$is_formateur | DA$is_directeur | DA$is_inspecteur | DA$is_other_role], useNA = 'always'),\n",
    "    pourc = round(100*table(DA$trainer_support_level[DA$is_formateur | DA$is_directeur | DA$is_inspecteur | DA$is_other_role], useNA = 'always')/\n",
    "          nrow(DA),1))\n"
   ]
  },
  {
   "cell_type": "markdown",
   "metadata": {},
   "source": [
    "## Description globale défis - indicateurs"
   ]
  },
  {
   "cell_type": "code",
   "execution_count": 11,
   "metadata": {},
   "outputs": [
    {
     "name": "stdout",
     "output_type": "stream",
     "text": [
      "Nombre défis: 31"
     ]
    }
   ],
   "source": [
    "#Nombre total de défis\n",
    "cat(paste(\"Nombre défis:\",nrow(DD)))"
   ]
  },
  {
   "cell_type": "code",
   "execution_count": 12,
   "metadata": {},
   "outputs": [
    {
     "name": "stdout",
     "output_type": "stream",
     "text": [
      "Nombre total indicateurs: 226"
     ]
    }
   ],
   "source": [
    "#Nombre total d'indicateurs\n",
    "cat(paste(\"Nombre total indicateurs:\",nrow(DI)))"
   ]
  },
  {
   "cell_type": "code",
   "execution_count": 13,
   "metadata": {},
   "outputs": [
    {
     "name": "stdout",
     "output_type": "stream",
     "text": [
      "Nombre median (min-max) d'indicateurs par défi: 6 (1-25)"
     ]
    }
   ],
   "source": [
    "#Nombre d'indicateurs par défi\n",
    "s <- summary(as.numeric((table(DI$defi))))\n",
    "cat(paste(\"Nombre median (min-max) d'indicateurs par défi: \",\n",
    "           round(s[\"Median\"],1),\" (\",s[\"Min.\"],\"-\",s[\"Max.\"],\")\",sep=\"\"))"
   ]
  },
  {
   "cell_type": "code",
   "execution_count": 14,
   "metadata": {},
   "outputs": [
    {
     "data": {
      "image/png": "[encoded data removed]",
      "text/plain": [
       "Plot with title “Distribution du nombre d'indicateurs par défi”"
      ]
     },
     "metadata": {
      "image/png": {
       "height": 420,
       "width": 420
      }
     },
     "output_type": "display_data"
    }
   ],
   "source": [
    "hist(as.numeric((table(DI$defi))),breaks = c(0:25),\n",
    "     xlab = \"Nombre d'indicateurs\",\n",
    "     ylab = \"Nombre de défis\",\n",
    "     main = \"Distribution du nombre d'indicateurs par défi\")"
   ]
  },
  {
   "cell_type": "code",
   "execution_count": 15,
   "metadata": {},
   "outputs": [
    {
     "name": "stdout",
     "output_type": "stream",
     "text": [
      "Nb de défis par catégorie / grande thématique"
     ]
    },
    {
     "data": {
      "text/plain": [
       "\n",
       "                Rendre visible les résultats d’apprentissage des élèves / étudiant·es \n",
       "                                                                                    2 \n",
       "                                                              Gérer les comportements \n",
       "                                                                                    5 \n",
       "                       Engager les élèves / étudiants dans les tâches d’apprentissage \n",
       "                                                                                   10 \n",
       "Traiter les sujets du programme de façon compréhensible pour les élèves / étudiant·es \n",
       "                                                                                   14 "
      ]
     },
     "metadata": {},
     "output_type": "display_data"
    }
   ],
   "source": [
    "#Nb de défis par \"catégorie de défis / grande thématique\"\n",
    "T <- table(DD$cat_defi_cons)\n",
    "cat(\"Nb de défis par catégorie / grande thématique\")\n",
    "sort(T)"
   ]
  },
  {
   "cell_type": "code",
   "execution_count": 16,
   "metadata": {},
   "outputs": [
    {
     "name": "stdout",
     "output_type": "stream",
     "text": [
      "Nb de défis selon de nb de coauteurs"
     ]
    },
    {
     "data": {
      "text/plain": [
       "nb_coauth\n",
       " 1  2  3  4  5  6  7 11 13 \n",
       " 7  7  5  1  2  5  1  1  2 "
      ]
     },
     "metadata": {},
     "output_type": "display_data"
    }
   ],
   "source": [
    "#Nb de défis selon nb de co-auteurs\n",
    "T <- table(nb_coauth = DD$nb_coauteurs)\n",
    "cat(\"Nb de défis selon de nb de coauteurs\")\n",
    "T"
   ]
  },
  {
   "cell_type": "code",
   "execution_count": 17,
   "metadata": {},
   "outputs": [
    {
     "name": "stdout",
     "output_type": "stream",
     "text": [
      "Nb de défis avec un seul auteur: 7"
     ]
    }
   ],
   "source": [
    "#Nb de défis avec un seul auteur\n",
    "cat(\"Nb de défis avec un seul auteur:\",sum(DD$nb_coauteurs==1))"
   ]
  },
  {
   "cell_type": "code",
   "execution_count": 18,
   "metadata": {},
   "outputs": [
    {
     "data": {
      "image/png": "[encoded data removed]",
      "text/plain": [
       "Plot with title “Nb de défis par nb de co-auteurs”"
      ]
     },
     "metadata": {
      "image/png": {
       "height": 420,
       "width": 420
      }
     },
     "output_type": "display_data"
    }
   ],
   "source": [
    "hist(DD$nb_coauteurs,breaks = c(0:14),xlab = \"Nb de coauteurs\", ylab = \"Nb de défis\",\n",
    "     main = \"Nb de défis par nb de co-auteurs\")"
   ]
  },
  {
   "cell_type": "markdown",
   "metadata": {},
   "source": [
    "## Analyse indicateurs univariées"
   ]
  },
  {
   "cell_type": "code",
   "execution_count": 19,
   "metadata": {},
   "outputs": [
    {
     "name": "stdout",
     "output_type": "stream",
     "text": [
      "Nombre d'indicateurs jugés peu clairs: 14 (sur 226 )\n",
      "Ces indicateurs ont été écartés de l'analyse"
     ]
    }
   ],
   "source": [
    "#Indicateurs peu clairs\n",
    "cat(paste(\"Nombre d'indicateurs jugés peu clairs:\",sum(DI$clarte_cons==\"Non\"),\"(sur\",nrow(DI),\")\\n\"))\n",
    "\n",
    "cat(\"Ces indicateurs ont été écartés de l'analyse\")"
   ]
  },
  {
   "cell_type": "code",
   "execution_count": 20,
   "metadata": {},
   "outputs": [
    {
     "name": "stdout",
     "output_type": "stream",
     "text": [
      "Indicateurs peu clairs"
     ]
    },
    {
     "data": {
      "text/html": [
       "<table class=\"dataframe\">\n",
       "<caption>A data.frame: 14 × 5</caption>\n",
       "<thead>\n",
       "\t<tr><th></th><th scope=col>defi</th><th scope=col>Intitulé</th><th scope=col>Indicateur</th><th scope=col>Quelle.donnée.faut.il.surveiller..</th><th scope=col>Exemples.de.réponses.possibles</th></tr>\n",
       "\t<tr><th></th><th scope=col>&lt;fct&gt;</th><th scope=col>&lt;fct&gt;</th><th scope=col>&lt;fct&gt;</th><th scope=col>&lt;fct&gt;</th><th scope=col>&lt;fct&gt;</th></tr>\n",
       "</thead>\n",
       "<tbody>\n",
       "\t<tr><th scope=row>13</th><td>45  </td><td>Comment améliorer le climat scolaire au sein d’une école?                                                                         </td><td>Indicateur #3a</td><td>Comment se percoivent les élèves dans leur groupe de travail ?                                         </td><td>                                                   </td></tr>\n",
       "\t<tr><th scope=row>14</th><td>45  </td><td>Comment améliorer le climat scolaire au sein d’une école?                                                                         </td><td>Indicateur #3b</td><td>Comment se percoivent les élèves dans leur classe ?                                                    </td><td>                                                   </td></tr>\n",
       "\t<tr><th scope=row>15</th><td>45  </td><td>Comment améliorer le climat scolaire au sein d’une école?                                                                         </td><td>Indicateur #3c</td><td>Comment se percoivent les élèves dans leur section d'enseignement ?                                    </td><td>                                                   </td></tr>\n",
       "\t<tr><th scope=row>16</th><td>45  </td><td>Comment améliorer le climat scolaire au sein d’une école?                                                                         </td><td>Indicateur #3d</td><td>Comment se percoivent les élèves dans leur établissement ?                                             </td><td>                                                   </td></tr>\n",
       "\t<tr><th scope=row>22</th><td>45  </td><td>Comment améliorer le climat scolaire au sein d’une école?                                                                         </td><td>Indicateur #5a</td><td>Retour des élèves: est-ce que l'action était utile ?                                                   </td><td>                                                   </td></tr>\n",
       "\t<tr><th scope=row>23</th><td>45  </td><td>Comment améliorer le climat scolaire au sein d’une école?                                                                         </td><td>Indicateur #5b</td><td>Retour des élèves: est-ce qu'ils veulent rejouer l'action ?                                            </td><td>                                                   </td></tr>\n",
       "\t<tr><th scope=row>24</th><td>45  </td><td>Comment améliorer le climat scolaire au sein d’une école?                                                                         </td><td>Indicateur #5c</td><td>Retour des élèves: est-ce qu'ils ont reinvesti l'action ?                                              </td><td>                                                   </td></tr>\n",
       "\t<tr><th scope=row>25</th><td>45  </td><td>Comment améliorer le climat scolaire au sein d’une école?                                                                         </td><td>Indicateur #5d</td><td>Retour des élèves: est-ce qu'ils ont reutilisé l'action ?                                              </td><td>                                                   </td></tr>\n",
       "\t<tr><th scope=row>62</th><td>58  </td><td>Comment libérer ses élèves du manque de confiance en soi vis à vis de leurs apprentissages ?                                      </td><td>Indicateur #4 </td><td>Bien-être psychique de l'élève                                                                         </td><td>L'élève a-t-il changé son comportement en société ?</td></tr>\n",
       "\t<tr><th scope=row>164</th><td>DC3 </td><td>Comment mettre en œuvre, en équipe pédagogique, une évaluation partagée des apprentissages au service de la formation des élèves ?</td><td>Indicateur #3b</td><td>Etat d’usage des outils par chaque professeur                                                          </td><td>                                                   </td></tr>\n",
       "\t<tr><th scope=row>190</th><td>DSE2</td><td>Comment différencier les pratiques en faveur de tous les élèves ?                                                                 </td><td>Indicateur #4 </td><td>Objectifs atteints / compétences acquises Scenario #1                                                  </td><td>                                                   </td></tr>\n",
       "\t<tr><th scope=row>191</th><td>DSE2</td><td>Comment différencier les pratiques en faveur de tous les élèves ?                                                                 </td><td>Indicateur #5 </td><td>Objectifs atteints / compétences acquises Scénario #2                                                  </td><td>                                                   </td></tr>\n",
       "\t<tr><th scope=row>215</th><td>EEC8</td><td>Comment permettre aux élèves d'évaluer une source à travers différentes disciplines scolaires ?                                   </td><td>Indicateur #9 </td><td>Nombre de critères attendus justifiant l'intention de partage d'une source                             </td><td>1, 2, 3 critères attendus                          </td></tr>\n",
       "\t<tr><th scope=row>224</th><td>SOL1</td><td>Comment améliorer le bien-être des élèves par la reconnexion à la Nature ?                                                        </td><td>#4            </td><td>résultats du questionnaire diagnostic à n+1 pour identifier de nouveaux axes de travail avec les élèves</td><td>réponses quantifiables du questionnaire            </td></tr>\n",
       "</tbody>\n",
       "</table>\n"
      ],
      "text/latex": [
       "A data.frame: 14 × 5\n",
       "\\begin{tabular}{r|lllll}\n",
       "  & defi & Intitulé & Indicateur & Quelle.donnée.faut.il.surveiller.. & Exemples.de.réponses.possibles\\\\\n",
       "  & <fct> & <fct> & <fct> & <fct> & <fct>\\\\\n",
       "\\hline\n",
       "\t13 & 45   & Comment améliorer le climat scolaire au sein d’une école?                                                                          & Indicateur \\#3a & Comment se percoivent les élèves dans leur groupe de travail ?                                          &                                                    \\\\\n",
       "\t14 & 45   & Comment améliorer le climat scolaire au sein d’une école?                                                                          & Indicateur \\#3b & Comment se percoivent les élèves dans leur classe ?                                                     &                                                    \\\\\n",
       "\t15 & 45   & Comment améliorer le climat scolaire au sein d’une école?                                                                          & Indicateur \\#3c & Comment se percoivent les élèves dans leur section d'enseignement ?                                     &                                                    \\\\\n",
       "\t16 & 45   & Comment améliorer le climat scolaire au sein d’une école?                                                                          & Indicateur \\#3d & Comment se percoivent les élèves dans leur établissement ?                                              &                                                    \\\\\n",
       "\t22 & 45   & Comment améliorer le climat scolaire au sein d’une école?                                                                          & Indicateur \\#5a & Retour des élèves: est-ce que l'action était utile ?                                                    &                                                    \\\\\n",
       "\t23 & 45   & Comment améliorer le climat scolaire au sein d’une école?                                                                          & Indicateur \\#5b & Retour des élèves: est-ce qu'ils veulent rejouer l'action ?                                             &                                                    \\\\\n",
       "\t24 & 45   & Comment améliorer le climat scolaire au sein d’une école?                                                                          & Indicateur \\#5c & Retour des élèves: est-ce qu'ils ont reinvesti l'action ?                                               &                                                    \\\\\n",
       "\t25 & 45   & Comment améliorer le climat scolaire au sein d’une école?                                                                          & Indicateur \\#5d & Retour des élèves: est-ce qu'ils ont reutilisé l'action ?                                               &                                                    \\\\\n",
       "\t62 & 58   & Comment libérer ses élèves du manque de confiance en soi vis à vis de leurs apprentissages ?                                       & Indicateur \\#4  & Bien-être psychique de l'élève                                                                          & L'élève a-t-il changé son comportement en société ?\\\\\n",
       "\t164 & DC3  & Comment mettre en œuvre, en équipe pédagogique, une évaluation partagée des apprentissages au service de la formation des élèves ? & Indicateur \\#3b & Etat d’usage des outils par chaque professeur                                                           &                                                    \\\\\n",
       "\t190 & DSE2 & Comment différencier les pratiques en faveur de tous les élèves ?                                                                  & Indicateur \\#4  & Objectifs atteints / compétences acquises Scenario \\#1                                                   &                                                    \\\\\n",
       "\t191 & DSE2 & Comment différencier les pratiques en faveur de tous les élèves ?                                                                  & Indicateur \\#5  & Objectifs atteints / compétences acquises Scénario \\#2                                                   &                                                    \\\\\n",
       "\t215 & EEC8 & Comment permettre aux élèves d'évaluer une source à travers différentes disciplines scolaires ?                                    & Indicateur \\#9  & Nombre de critères attendus justifiant l'intention de partage d'une source                              & 1, 2, 3 critères attendus                          \\\\\n",
       "\t224 & SOL1 & Comment améliorer le bien-être des élèves par la reconnexion à la Nature ?                                                         & \\#4             & résultats du questionnaire diagnostic à n+1 pour identifier de nouveaux axes de travail avec les élèves & réponses quantifiables du questionnaire            \\\\\n",
       "\\end{tabular}\n"
      ],
      "text/markdown": [
       "\n",
       "A data.frame: 14 × 5\n",
       "\n",
       "| <!--/--> | defi &lt;fct&gt; | Intitulé &lt;fct&gt; | Indicateur &lt;fct&gt; | Quelle.donnée.faut.il.surveiller.. &lt;fct&gt; | Exemples.de.réponses.possibles &lt;fct&gt; |\n",
       "|---|---|---|---|---|---|\n",
       "| 13 | 45   | Comment améliorer le climat scolaire au sein d’une école?                                                                          | Indicateur #3a | Comment se percoivent les élèves dans leur groupe de travail ?                                          | <!----> |\n",
       "| 14 | 45   | Comment améliorer le climat scolaire au sein d’une école?                                                                          | Indicateur #3b | Comment se percoivent les élèves dans leur classe ?                                                     | <!----> |\n",
       "| 15 | 45   | Comment améliorer le climat scolaire au sein d’une école?                                                                          | Indicateur #3c | Comment se percoivent les élèves dans leur section d'enseignement ?                                     | <!----> |\n",
       "| 16 | 45   | Comment améliorer le climat scolaire au sein d’une école?                                                                          | Indicateur #3d | Comment se percoivent les élèves dans leur établissement ?                                              | <!----> |\n",
       "| 22 | 45   | Comment améliorer le climat scolaire au sein d’une école?                                                                          | Indicateur #5a | Retour des élèves: est-ce que l'action était utile ?                                                    | <!----> |\n",
       "| 23 | 45   | Comment améliorer le climat scolaire au sein d’une école?                                                                          | Indicateur #5b | Retour des élèves: est-ce qu'ils veulent rejouer l'action ?                                             | <!----> |\n",
       "| 24 | 45   | Comment améliorer le climat scolaire au sein d’une école?                                                                          | Indicateur #5c | Retour des élèves: est-ce qu'ils ont reinvesti l'action ?                                               | <!----> |\n",
       "| 25 | 45   | Comment améliorer le climat scolaire au sein d’une école?                                                                          | Indicateur #5d | Retour des élèves: est-ce qu'ils ont reutilisé l'action ?                                               | <!----> |\n",
       "| 62 | 58   | Comment libérer ses élèves du manque de confiance en soi vis à vis de leurs apprentissages ?                                       | Indicateur #4  | Bien-être psychique de l'élève                                                                          | L'élève a-t-il changé son comportement en société ? |\n",
       "| 164 | DC3  | Comment mettre en œuvre, en équipe pédagogique, une évaluation partagée des apprentissages au service de la formation des élèves ? | Indicateur #3b | Etat d’usage des outils par chaque professeur                                                           | <!----> |\n",
       "| 190 | DSE2 | Comment différencier les pratiques en faveur de tous les élèves ?                                                                  | Indicateur #4  | Objectifs atteints / compétences acquises Scenario #1                                                   | <!----> |\n",
       "| 191 | DSE2 | Comment différencier les pratiques en faveur de tous les élèves ?                                                                  | Indicateur #5  | Objectifs atteints / compétences acquises Scénario #2                                                   | <!----> |\n",
       "| 215 | EEC8 | Comment permettre aux élèves d'évaluer une source à travers différentes disciplines scolaires ?                                    | Indicateur #9  | Nombre de critères attendus justifiant l'intention de partage d'une source                              | 1, 2, 3 critères attendus                           |\n",
       "| 224 | SOL1 | Comment améliorer le bien-être des élèves par la reconnexion à la Nature ?                                                         | #4             | résultats du questionnaire diagnostic à n+1 pour identifier de nouveaux axes de travail avec les élèves | réponses quantifiables du questionnaire             |\n",
       "\n"
      ],
      "text/plain": [
       "    defi\n",
       "13  45  \n",
       "14  45  \n",
       "15  45  \n",
       "16  45  \n",
       "22  45  \n",
       "23  45  \n",
       "24  45  \n",
       "25  45  \n",
       "62  58  \n",
       "164 DC3 \n",
       "190 DSE2\n",
       "191 DSE2\n",
       "215 EEC8\n",
       "224 SOL1\n",
       "    Intitulé                                                                                                                          \n",
       "13  Comment améliorer le climat scolaire au sein d’une école?                                                                         \n",
       "14  Comment améliorer le climat scolaire au sein d’une école?                                                                         \n",
       "15  Comment améliorer le climat scolaire au sein d’une école?                                                                         \n",
       "16  Comment améliorer le climat scolaire au sein d’une école?                                                                         \n",
       "22  Comment améliorer le climat scolaire au sein d’une école?                                                                         \n",
       "23  Comment améliorer le climat scolaire au sein d’une école?                                                                         \n",
       "24  Comment améliorer le climat scolaire au sein d’une école?                                                                         \n",
       "25  Comment améliorer le climat scolaire au sein d’une école?                                                                         \n",
       "62  Comment libérer ses élèves du manque de confiance en soi vis à vis de leurs apprentissages ?                                      \n",
       "164 Comment mettre en œuvre, en équipe pédagogique, une évaluation partagée des apprentissages au service de la formation des élèves ?\n",
       "190 Comment différencier les pratiques en faveur de tous les élèves ?                                                                 \n",
       "191 Comment différencier les pratiques en faveur de tous les élèves ?                                                                 \n",
       "215 Comment permettre aux élèves d'évaluer une source à travers différentes disciplines scolaires ?                                   \n",
       "224 Comment améliorer le bien-être des élèves par la reconnexion à la Nature ?                                                        \n",
       "    Indicateur    \n",
       "13  Indicateur #3a\n",
       "14  Indicateur #3b\n",
       "15  Indicateur #3c\n",
       "16  Indicateur #3d\n",
       "22  Indicateur #5a\n",
       "23  Indicateur #5b\n",
       "24  Indicateur #5c\n",
       "25  Indicateur #5d\n",
       "62  Indicateur #4 \n",
       "164 Indicateur #3b\n",
       "190 Indicateur #4 \n",
       "191 Indicateur #5 \n",
       "215 Indicateur #9 \n",
       "224 #4            \n",
       "    Quelle.donnée.faut.il.surveiller..                                                                     \n",
       "13  Comment se percoivent les élèves dans leur groupe de travail ?                                         \n",
       "14  Comment se percoivent les élèves dans leur classe ?                                                    \n",
       "15  Comment se percoivent les élèves dans leur section d'enseignement ?                                    \n",
       "16  Comment se percoivent les élèves dans leur établissement ?                                             \n",
       "22  Retour des élèves: est-ce que l'action était utile ?                                                   \n",
       "23  Retour des élèves: est-ce qu'ils veulent rejouer l'action ?                                            \n",
       "24  Retour des élèves: est-ce qu'ils ont reinvesti l'action ?                                              \n",
       "25  Retour des élèves: est-ce qu'ils ont reutilisé l'action ?                                              \n",
       "62  Bien-être psychique de l'élève                                                                         \n",
       "164 Etat d’usage des outils par chaque professeur                                                          \n",
       "190 Objectifs atteints / compétences acquises Scenario #1                                                  \n",
       "191 Objectifs atteints / compétences acquises Scénario #2                                                  \n",
       "215 Nombre de critères attendus justifiant l'intention de partage d'une source                             \n",
       "224 résultats du questionnaire diagnostic à n+1 pour identifier de nouveaux axes de travail avec les élèves\n",
       "    Exemples.de.réponses.possibles                     \n",
       "13                                                     \n",
       "14                                                     \n",
       "15                                                     \n",
       "16                                                     \n",
       "22                                                     \n",
       "23                                                     \n",
       "24                                                     \n",
       "25                                                     \n",
       "62  L'élève a-t-il changé son comportement en société ?\n",
       "164                                                    \n",
       "190                                                    \n",
       "191                                                    \n",
       "215 1, 2, 3 critères attendus                          \n",
       "224 réponses quantifiables du questionnaire            "
      ]
     },
     "metadata": {},
     "output_type": "display_data"
    }
   ],
   "source": [
    "cat(\"Indicateurs peu clairs\")\n",
    "DI[DI$clarte_cons==\"Non\",c(\"defi\",\"Intitulé\",'Indicateur',\n",
    "                         'Quelle.donnée.faut.il.surveiller..','Exemples.de.réponses.possibles')]"
   ]
  },
  {
   "cell_type": "code",
   "execution_count": 21,
   "metadata": {},
   "outputs": [],
   "source": [
    "#On les supprime de la base de données pour analyse\n",
    "DTI <- DI\n",
    "DI <- DI[DI$clarte_cons!=\"Non\",]"
   ]
  },
  {
   "cell_type": "code",
   "execution_count": 22,
   "metadata": {},
   "outputs": [
    {
     "name": "stdout",
     "output_type": "stream",
     "text": [
      "Nombre d'indicateurs analysés: 212"
     ]
    }
   ],
   "source": [
    "#Taille de la base d'analyse\n",
    "cat(paste(\"Nombre d'indicateurs analysés:\",nrow(DI)))"
   ]
  },
  {
   "cell_type": "code",
   "execution_count": 23,
   "metadata": {},
   "outputs": [
    {
     "name": "stdout",
     "output_type": "stream",
     "text": [
      "Nombre d'indicateurs jugés pertinents - en lien direct avec le défi: 181 (85.4%)\n",
      "Nombre d'indicateurs jugés non pertinents - pas en lien direct avec le défi: 31 (14.6%)"
     ]
    }
   ],
   "source": [
    "#Indicateurs jugés pertinents - en lien direct\n",
    "cat(paste(\"Nombre d'indicateurs jugés pertinents - en lien direct avec le défi: \",\n",
    "            sum(DI$cible_cons==\"Oui\"),\n",
    "            \" (\",round(100*sum(DI$cible_cons==\"Oui\")/nrow(DI),1),\n",
    "           \"%)\\n\",sep=\"\"))\n",
    "\n",
    "#Indicateurs jugés non pertinents - pas en lien direct\n",
    "cat(paste(\"Nombre d'indicateurs jugés non pertinents - pas en lien direct avec le défi: \",\n",
    "            sum(DI$cible_cons==\"Non\"),\n",
    "            \" (\",round(100*sum(DI$cible_cons==\"Non\")/nrow(DI),1),\n",
    "           \"%)\",sep=\"\"))"
   ]
  },
  {
   "cell_type": "code",
   "execution_count": 24,
   "metadata": {},
   "outputs": [
    {
     "name": "stdout",
     "output_type": "stream",
     "text": [
      "Nombre d'indicateurs quantitatifs: 187 (88.2%)\n",
      "Nombre d'indicateurs qualitatifs: 13 (6.1%)\n",
      "Nombre d'indicateurs non définis (quanti ou quali possible): 12 (5.7%)"
     ]
    }
   ],
   "source": [
    "#Indicateurs quali vs quanti\n",
    "cat(paste(\"Nombre d'indicateurs quantitatifs: \",\n",
    "            sum(DI$qua_cons==\"Quantitatif\"),\n",
    "            \" (\",round(100*sum(DI$qua_cons==\"Quantitatif\")/nrow(DI),1),\n",
    "           \"%)\\n\",sep=\"\"))\n",
    "\n",
    "cat(paste(\"Nombre d'indicateurs qualitatifs: \",\n",
    "            sum(DI$qua_cons==\"Qualitatif\"),\n",
    "            \" (\",round(100*sum(DI$qua_cons==\"Qualitatif\")/nrow(DI),1),\n",
    "           \"%)\\n\",sep=\"\"))\n",
    "\n",
    "cat(paste(\"Nombre d'indicateurs non définis (quanti ou quali possible): \",\n",
    "            sum(DI$qua_cons==\"Non défini (quanti ou quali possible)\"),\n",
    "            \" (\",round(100*sum(DI$qua_cons==\"Non défini (quanti ou quali possible)\")/nrow(DI),1),\n",
    "           \"%)\",sep=\"\"))"
   ]
  },
  {
   "cell_type": "code",
   "execution_count": 25,
   "metadata": {},
   "outputs": [
    {
     "name": "stdout",
     "output_type": "stream",
     "text": [
      "Analyse indicateurs finalité vs process basée sur 181 indicateurs (ceux jugés pertinents - en lien direct)\n",
      "Nombre d'indicateurs de finalité: 131 (72.4%)\n",
      "Nombre d'indicateurs de processus: 50 (27.6%)\n"
     ]
    }
   ],
   "source": [
    "#Indicateurs finalité vs process\n",
    "#Pour cette analyse nous ne traitons pas les indicateurs jugés non pertinents - pas en lien direct\n",
    "cat(paste(\"Analyse indicateurs finalité vs process basée sur\",\n",
    "            sum(!is.na(DI$finpro_cons)),\"indicateurs (ceux jugés pertinents - en lien direct)\\n\"))\n",
    "\n",
    "cat(paste(\"Nombre d'indicateurs de finalité: \",\n",
    "            sum(DI$finpro_cons==\"Finalité\" & !is.na(DI$finpro_cons)),\n",
    "            \" (\",round(100*sum(DI$finpro_cons==\"Finalité\" & !is.na(DI$finpro_cons))/sum(!is.na(DI$finpro_cons)),1),\n",
    "           \"%)\\n\",sep=\"\"))\n",
    "\n",
    "cat(paste(\"Nombre d'indicateurs de processus: \",\n",
    "            sum(DI$finpro_cons==\"Processus\" & !is.na(DI$finpro_cons)),\n",
    "            \" (\",round(100*sum(DI$finpro_cons==\"Processus\" & !is.na(DI$finpro_cons))/sum(!is.na(DI$finpro_cons)),1),\n",
    "           \"%)\\n\",sep=\"\"))"
   ]
  },
  {
   "cell_type": "code",
   "execution_count": 26,
   "metadata": {},
   "outputs": [
    {
     "name": "stdout",
     "output_type": "stream",
     "text": [
      "Nb défis avec uniquement des indicateurs quantitatifs: 20"
     ]
    }
   ],
   "source": [
    "#Nb de Défis avec uniquement des indicateurs quanti\n",
    "cat(\"Nb défis avec uniquement des indicateurs quantitatifs:\",\n",
    "sum(tapply(\n",
    "    DI$qua_cons,DI$defi,function(x){\n",
    "        sum(x==\"Quantitatif\")==length(x)\n",
    "    }\n",
    ")))"
   ]
  },
  {
   "cell_type": "code",
   "execution_count": 27,
   "metadata": {},
   "outputs": [
    {
     "name": "stdout",
     "output_type": "stream",
     "text": [
      "Nb défis avec uniquement des indicateurs quantitatifs: 0"
     ]
    }
   ],
   "source": [
    "cat(\"Nb défis avec uniquement des indicateurs quantitatifs:\",\n",
    "\n",
    "sum(tapply(\n",
    "    DI$qua_cons,DI$defi,function(x){\n",
    "        sum(x==\"Qualitatif\")==length(x)\n",
    "    }\n",
    ")))"
   ]
  },
  {
   "cell_type": "code",
   "execution_count": 28,
   "metadata": {},
   "outputs": [
    {
     "name": "stdout",
     "output_type": "stream",
     "text": [
      "Nb défis avec des indicateurs ET quantitatifs ET qualitatifs: 11"
     ]
    }
   ],
   "source": [
    "cat(\"Nb défis avec des indicateurs ET quantitatifs ET qualitatifs:\",\n",
    "\n",
    "sum(tapply(\n",
    "    DI$qua_cons,DI$defi,function(x){\n",
    "        ((sum(x==\"Qualitatif\")!=0) & (sum(x==\"Quantitatif\")!=0)) | (sum(x==\"Non défini (quanti ou quali possible)\")!=0)\n",
    "    }\n",
    ")))"
   ]
  },
  {
   "cell_type": "code",
   "execution_count": 29,
   "metadata": {},
   "outputs": [
    {
     "name": "stdout",
     "output_type": "stream",
     "text": [
      "Nb défis avec uniquement des indicateurs jugés non pertinents: 2"
     ]
    }
   ],
   "source": [
    "#Nb de défis avec uniquement des indicateurs jugés non pertinents\n",
    "cat(\"Nb défis avec uniquement des indicateurs jugés non pertinents:\",\n",
    "\n",
    "sum(by(\n",
    "    DI,DI$defi,function(x){\n",
    "        sum(!is.na(x$finpro_cons))==0\n",
    "    }\n",
    ")))"
   ]
  },
  {
   "cell_type": "code",
   "execution_count": 30,
   "metadata": {},
   "outputs": [
    {
     "name": "stdout",
     "output_type": "stream",
     "text": [
      "Nb défis avec uniquement des indicateurs de finalité: 13"
     ]
    }
   ],
   "source": [
    "#Nb de Défis avec uniquement des indicateurs finalité\n",
    "cat(\"Nb défis avec uniquement des indicateurs de finalité:\",\n",
    "sum(by(\n",
    "    DI,DI$defi,function(x){\n",
    "        sum(x$finpro_cons[!is.na(x$finpro_cons)]==\"Finalité\")==sum(!is.na(x$finpro_cons)) & \n",
    "        sum(!is.na(x$finpro_cons))!=0\n",
    "    }\n",
    ")))"
   ]
  },
  {
   "cell_type": "code",
   "execution_count": 31,
   "metadata": {},
   "outputs": [
    {
     "name": "stdout",
     "output_type": "stream",
     "text": [
      "Nb défis avec uniquement des indicateurs de processus: 3"
     ]
    }
   ],
   "source": [
    "#Nb de Défis avec uniquement des indicateurs process\n",
    "cat(\"Nb défis avec uniquement des indicateurs de processus:\",\n",
    "sum(\n",
    "by(\n",
    "    DI,DI$defi,function(x){\n",
    "        sum(x$finpro_cons[!is.na(x$finpro_cons)]==\"Processus\")==sum(!is.na(x$finpro_cons)) & \n",
    "        sum(!is.na(x$finpro_cons))!=0\n",
    "    }\n",
    ")))"
   ]
  },
  {
   "cell_type": "code",
   "execution_count": 32,
   "metadata": {},
   "outputs": [
    {
     "name": "stdout",
     "output_type": "stream",
     "text": [
      "Nb défis avec des indicateurs ET de finalité ET de processus: 13"
     ]
    }
   ],
   "source": [
    "cat(\"Nb défis avec des indicateurs ET de finalité ET de processus:\",\n",
    "\n",
    "sum(by(\n",
    "    DI,DI$defi,function(x){\n",
    "        c(\"Processus\")%in%x$finpro_cons[!is.na(x$finpro_cons)] & \n",
    "        c(\"Finalité\")%in%x$finpro_cons[!is.na(x$finpro_cons)] & \n",
    "        sum(!is.na(x$finpro_cons))!=0\n",
    "    }\n",
    ")))"
   ]
  },
  {
   "cell_type": "code",
   "execution_count": 33,
   "metadata": {},
   "outputs": [
    {
     "name": "stdout",
     "output_type": "stream",
     "text": [
      "Nb indicateurs créés individuellement vs collaborativement"
     ]
    },
    {
     "data": {
      "text/plain": [
       "indiv\n",
       "FALSE  TRUE \n",
       "  169    43 "
      ]
     },
     "metadata": {},
     "output_type": "display_data"
    },
    {
     "name": "stdout",
     "output_type": "stream",
     "text": [
      "En pourcentages"
     ]
    },
    {
     "data": {
      "text/plain": [
       "indiv\n",
       "FALSE  TRUE \n",
       " 79.7  20.3 "
      ]
     },
     "metadata": {},
     "output_type": "display_data"
    }
   ],
   "source": [
    "#Créés indiv vs collectivement\n",
    "cat(\"Nb indicateurs créés individuellement vs collaborativement\")\n",
    "table(indiv = DI$nb_coauteurs==1)\n",
    "cat(\"En pourcentages\")\n",
    "round(100*table(indiv = DI$nb_coauteurs==1)/nrow(DI),1)"
   ]
  },
  {
   "cell_type": "markdown",
   "metadata": {},
   "source": [
    "## Analyse bi-variées"
   ]
  },
  {
   "cell_type": "code",
   "execution_count": 34,
   "metadata": {},
   "outputs": [
    {
     "name": "stdout",
     "output_type": "stream",
     "text": [
      "Quanti/Quali vs Finalité/Processus en nombre absolu"
     ]
    },
    {
     "data": {
      "text/plain": [
       "                                       \n",
       "                                        Finalité Processus\n",
       "  Non défini (quanti ou quali possible)        6         6\n",
       "  Qualitatif                                   7         3\n",
       "  Quantitatif                                118        41"
      ]
     },
     "metadata": {},
     "output_type": "display_data"
    },
    {
     "name": "stdout",
     "output_type": "stream",
     "text": [
      "\n",
      "Quanti/Quali vs Finalité/Processus en nombre pourcentages"
     ]
    },
    {
     "data": {
      "text/plain": [
       "                                       \n",
       "                                        Finalité Processus\n",
       "  Non défini (quanti ou quali possible)      4.6      12.0\n",
       "  Qualitatif                                 5.3       6.0\n",
       "  Quantitatif                               90.1      82.0"
      ]
     },
     "metadata": {},
     "output_type": "display_data"
    }
   ],
   "source": [
    "cat(\"Quanti/Quali vs Finalité/Processus en nombre absolu\")\n",
    "table(DI$qua_cons[!is.na(DI$finpro_cons)],DI$finpro_cons[!is.na(DI$finpro_cons)])\n",
    "\n",
    "cat(\"\\nQuanti/Quali vs Finalité/Processus en nombre pourcentages\")\n",
    "round(100*table(DI$qua_cons[!is.na(DI$finpro_cons)],DI$finpro_cons[!is.na(DI$finpro_cons)])/rep(as.numeric(table(DI$finpro_cons[!is.na(DI$finpro_cons)])),each=3),1)"
   ]
  },
  {
   "cell_type": "code",
   "execution_count": 35,
   "metadata": {},
   "outputs": [
    {
     "name": "stdout",
     "output_type": "stream",
     "text": [
      "Thématique vs Quanti/Quali"
     ]
    },
    {
     "data": {
      "text/html": [
       "<table class=\"dataframe\">\n",
       "<caption>A matrix: 4 × 6 of type dbl</caption>\n",
       "<thead>\n",
       "\t<tr><th></th><th scope=col>Non défini (quanti ou quali possible)</th><th scope=col>Qualitatif</th><th scope=col>Quantitatif</th><th scope=col>Non défini (quanti ou quali possible)</th><th scope=col>Qualitatif</th><th scope=col>Quantitatif</th></tr>\n",
       "</thead>\n",
       "<tbody>\n",
       "\t<tr><th scope=row>Engager les élèves / étudiants dans les tâches d’apprentissage</th><td>9</td><td>5</td><td>57</td><td>12.7</td><td> 7.0</td><td>80.3</td></tr>\n",
       "\t<tr><th scope=row>Gérer les comportements</th><td>1</td><td>0</td><td>30</td><td> 3.2</td><td> 0.0</td><td>96.8</td></tr>\n",
       "\t<tr><th scope=row>Rendre visible les résultats d’apprentissage des élèves / étudiant·es</th><td>0</td><td>1</td><td> 3</td><td> 0.0</td><td>25.0</td><td>75.0</td></tr>\n",
       "\t<tr><th scope=row>Traiter les sujets du programme de façon compréhensible pour les élèves / étudiant·es</th><td>2</td><td>7</td><td>97</td><td> 1.9</td><td> 6.6</td><td>91.5</td></tr>\n",
       "</tbody>\n",
       "</table>\n"
      ],
      "text/latex": [
       "A matrix: 4 × 6 of type dbl\n",
       "\\begin{tabular}{r|llllll}\n",
       "  & Non défini (quanti ou quali possible) & Qualitatif & Quantitatif & Non défini (quanti ou quali possible) & Qualitatif & Quantitatif\\\\\n",
       "\\hline\n",
       "\tEngager les élèves / étudiants dans les tâches d’apprentissage & 9 & 5 & 57 & 12.7 &  7.0 & 80.3\\\\\n",
       "\tGérer les comportements & 1 & 0 & 30 &  3.2 &  0.0 & 96.8\\\\\n",
       "\tRendre visible les résultats d’apprentissage des élèves / étudiant·es & 0 & 1 &  3 &  0.0 & 25.0 & 75.0\\\\\n",
       "\tTraiter les sujets du programme de façon compréhensible pour les élèves / étudiant·es & 2 & 7 & 97 &  1.9 &  6.6 & 91.5\\\\\n",
       "\\end{tabular}\n"
      ],
      "text/markdown": [
       "\n",
       "A matrix: 4 × 6 of type dbl\n",
       "\n",
       "| <!--/--> | Non défini (quanti ou quali possible) | Qualitatif | Quantitatif | Non défini (quanti ou quali possible) | Qualitatif | Quantitatif |\n",
       "|---|---|---|---|---|---|---|\n",
       "| Engager les élèves / étudiants dans les tâches d’apprentissage | 9 | 5 | 57 | 12.7 |  7.0 | 80.3 |\n",
       "| Gérer les comportements | 1 | 0 | 30 |  3.2 |  0.0 | 96.8 |\n",
       "| Rendre visible les résultats d’apprentissage des élèves / étudiant·es | 0 | 1 |  3 |  0.0 | 25.0 | 75.0 |\n",
       "| Traiter les sujets du programme de façon compréhensible pour les élèves / étudiant·es | 2 | 7 | 97 |  1.9 |  6.6 | 91.5 |\n",
       "\n"
      ],
      "text/plain": [
       "                                                                                      Non défini (quanti ou quali possible)\n",
       "Engager les élèves / étudiants dans les tâches d’apprentissage                        9                                    \n",
       "Gérer les comportements                                                               1                                    \n",
       "Rendre visible les résultats d’apprentissage des élèves / étudiant·es                 0                                    \n",
       "Traiter les sujets du programme de façon compréhensible pour les élèves / étudiant·es 2                                    \n",
       "                                                                                      Qualitatif\n",
       "Engager les élèves / étudiants dans les tâches d’apprentissage                        5         \n",
       "Gérer les comportements                                                               0         \n",
       "Rendre visible les résultats d’apprentissage des élèves / étudiant·es                 1         \n",
       "Traiter les sujets du programme de façon compréhensible pour les élèves / étudiant·es 7         \n",
       "                                                                                      Quantitatif\n",
       "Engager les élèves / étudiants dans les tâches d’apprentissage                        57         \n",
       "Gérer les comportements                                                               30         \n",
       "Rendre visible les résultats d’apprentissage des élèves / étudiant·es                  3         \n",
       "Traiter les sujets du programme de façon compréhensible pour les élèves / étudiant·es 97         \n",
       "                                                                                      Non défini (quanti ou quali possible)\n",
       "Engager les élèves / étudiants dans les tâches d’apprentissage                        12.7                                 \n",
       "Gérer les comportements                                                                3.2                                 \n",
       "Rendre visible les résultats d’apprentissage des élèves / étudiant·es                  0.0                                 \n",
       "Traiter les sujets du programme de façon compréhensible pour les élèves / étudiant·es  1.9                                 \n",
       "                                                                                      Qualitatif\n",
       "Engager les élèves / étudiants dans les tâches d’apprentissage                         7.0      \n",
       "Gérer les comportements                                                                0.0      \n",
       "Rendre visible les résultats d’apprentissage des élèves / étudiant·es                 25.0      \n",
       "Traiter les sujets du programme de façon compréhensible pour les élèves / étudiant·es  6.6      \n",
       "                                                                                      Quantitatif\n",
       "Engager les élèves / étudiants dans les tâches d’apprentissage                        80.3       \n",
       "Gérer les comportements                                                               96.8       \n",
       "Rendre visible les résultats d’apprentissage des élèves / étudiant·es                 75.0       \n",
       "Traiter les sujets du programme de façon compréhensible pour les élèves / étudiant·es 91.5       "
      ]
     },
     "metadata": {},
     "output_type": "display_data"
    }
   ],
   "source": [
    "cat(\"Thématique vs Quanti/Quali\")\n",
    "t(rbind(table(DI$qua_cons[!is.na(DI$qua_cons)],DI$cat_defi[!is.na(DI$qua_cons)]),\n",
    "\n",
    "round(100*table(DI$qua_cons[!is.na(DI$qua_cons)],DI$cat_defi[!is.na(DI$qua_cons)])/rep(as.numeric(table(DI$cat_defi[!is.na(DI$qua_cons)])),each=3),1)))"
   ]
  },
  {
   "cell_type": "code",
   "execution_count": 36,
   "metadata": {},
   "outputs": [
    {
     "name": "stdout",
     "output_type": "stream",
     "text": [
      "Thématique vs Finalité/Process"
     ]
    },
    {
     "data": {
      "text/html": [
       "<table class=\"dataframe\">\n",
       "<caption>A matrix: 4 × 4 of type dbl</caption>\n",
       "<thead>\n",
       "\t<tr><th></th><th scope=col>Finalité</th><th scope=col>Processus</th><th scope=col>Finalité</th><th scope=col>Processus</th></tr>\n",
       "</thead>\n",
       "<tbody>\n",
       "\t<tr><th scope=row>Engager les élèves / étudiants dans les tâches d’apprentissage</th><td>45</td><td>25</td><td>64.3</td><td>35.7</td></tr>\n",
       "\t<tr><th scope=row>Gérer les comportements</th><td>20</td><td> 1</td><td>95.2</td><td> 4.8</td></tr>\n",
       "\t<tr><th scope=row>Rendre visible les résultats d’apprentissage des élèves / étudiant·es</th><td> 1</td><td> 2</td><td>33.3</td><td>66.7</td></tr>\n",
       "\t<tr><th scope=row>Traiter les sujets du programme de façon compréhensible pour les élèves / étudiant·es</th><td>65</td><td>22</td><td>74.7</td><td>25.3</td></tr>\n",
       "</tbody>\n",
       "</table>\n"
      ],
      "text/latex": [
       "A matrix: 4 × 4 of type dbl\n",
       "\\begin{tabular}{r|llll}\n",
       "  & Finalité & Processus & Finalité & Processus\\\\\n",
       "\\hline\n",
       "\tEngager les élèves / étudiants dans les tâches d’apprentissage & 45 & 25 & 64.3 & 35.7\\\\\n",
       "\tGérer les comportements & 20 &  1 & 95.2 &  4.8\\\\\n",
       "\tRendre visible les résultats d’apprentissage des élèves / étudiant·es &  1 &  2 & 33.3 & 66.7\\\\\n",
       "\tTraiter les sujets du programme de façon compréhensible pour les élèves / étudiant·es & 65 & 22 & 74.7 & 25.3\\\\\n",
       "\\end{tabular}\n"
      ],
      "text/markdown": [
       "\n",
       "A matrix: 4 × 4 of type dbl\n",
       "\n",
       "| <!--/--> | Finalité | Processus | Finalité | Processus |\n",
       "|---|---|---|---|---|\n",
       "| Engager les élèves / étudiants dans les tâches d’apprentissage | 45 | 25 | 64.3 | 35.7 |\n",
       "| Gérer les comportements | 20 |  1 | 95.2 |  4.8 |\n",
       "| Rendre visible les résultats d’apprentissage des élèves / étudiant·es |  1 |  2 | 33.3 | 66.7 |\n",
       "| Traiter les sujets du programme de façon compréhensible pour les élèves / étudiant·es | 65 | 22 | 74.7 | 25.3 |\n",
       "\n"
      ],
      "text/plain": [
       "                                                                                      Finalité\n",
       "Engager les élèves / étudiants dans les tâches d’apprentissage                        45      \n",
       "Gérer les comportements                                                               20      \n",
       "Rendre visible les résultats d’apprentissage des élèves / étudiant·es                  1      \n",
       "Traiter les sujets du programme de façon compréhensible pour les élèves / étudiant·es 65      \n",
       "                                                                                      Processus\n",
       "Engager les élèves / étudiants dans les tâches d’apprentissage                        25       \n",
       "Gérer les comportements                                                                1       \n",
       "Rendre visible les résultats d’apprentissage des élèves / étudiant·es                  2       \n",
       "Traiter les sujets du programme de façon compréhensible pour les élèves / étudiant·es 22       \n",
       "                                                                                      Finalité\n",
       "Engager les élèves / étudiants dans les tâches d’apprentissage                        64.3    \n",
       "Gérer les comportements                                                               95.2    \n",
       "Rendre visible les résultats d’apprentissage des élèves / étudiant·es                 33.3    \n",
       "Traiter les sujets du programme de façon compréhensible pour les élèves / étudiant·es 74.7    \n",
       "                                                                                      Processus\n",
       "Engager les élèves / étudiants dans les tâches d’apprentissage                        35.7     \n",
       "Gérer les comportements                                                                4.8     \n",
       "Rendre visible les résultats d’apprentissage des élèves / étudiant·es                 66.7     \n",
       "Traiter les sujets du programme de façon compréhensible pour les élèves / étudiant·es 25.3     "
      ]
     },
     "metadata": {},
     "output_type": "display_data"
    }
   ],
   "source": [
    "cat(\"Thématique vs Finalité/Process\")\n",
    "t(rbind(table(DI$finpro_cons[!is.na(DI$finpro_cons)],DI$cat_defi[!is.na(DI$finpro_cons)]),\n",
    "\n",
    "round(100*table(DI$finpro_cons[!is.na(DI$finpro_cons)],DI$cat_defi[!is.na(DI$finpro_cons)])/rep(as.numeric(table(DI$cat_defi[!is.na(DI$finpro_cons)])),each=2),1)))"
   ]
  },
  {
   "cell_type": "code",
   "execution_count": 37,
   "metadata": {},
   "outputs": [
    {
     "name": "stdout",
     "output_type": "stream",
     "text": [
      "Quanti/quali vs Collab/indiv\n",
      "\n",
      "Indicateurs créés individuellement"
     ]
    },
    {
     "data": {
      "text/html": [
       "<table class=\"dataframe\">\n",
       "<caption>A matrix: 3 × 2 of type dbl</caption>\n",
       "<thead>\n",
       "\t<tr><th></th><th scope=col>nb</th><th scope=col>pourc</th></tr>\n",
       "</thead>\n",
       "<tbody>\n",
       "\t<tr><th scope=row>Non défini (quanti ou quali possible)</th><td> 2</td><td> 4.7</td></tr>\n",
       "\t<tr><th scope=row>Qualitatif</th><td> 0</td><td> 0.0</td></tr>\n",
       "\t<tr><th scope=row>Quantitatif</th><td>41</td><td>95.3</td></tr>\n",
       "</tbody>\n",
       "</table>\n"
      ],
      "text/latex": [
       "A matrix: 3 × 2 of type dbl\n",
       "\\begin{tabular}{r|ll}\n",
       "  & nb & pourc\\\\\n",
       "\\hline\n",
       "\tNon défini (quanti ou quali possible) &  2 &  4.7\\\\\n",
       "\tQualitatif &  0 &  0.0\\\\\n",
       "\tQuantitatif & 41 & 95.3\\\\\n",
       "\\end{tabular}\n"
      ],
      "text/markdown": [
       "\n",
       "A matrix: 3 × 2 of type dbl\n",
       "\n",
       "| <!--/--> | nb | pourc |\n",
       "|---|---|---|\n",
       "| Non défini (quanti ou quali possible) |  2 |  4.7 |\n",
       "| Qualitatif |  0 |  0.0 |\n",
       "| Quantitatif | 41 | 95.3 |\n",
       "\n"
      ],
      "text/plain": [
       "                                      nb pourc\n",
       "Non défini (quanti ou quali possible)  2  4.7 \n",
       "Qualitatif                             0  0.0 \n",
       "Quantitatif                           41 95.3 "
      ]
     },
     "metadata": {},
     "output_type": "display_data"
    },
    {
     "name": "stdout",
     "output_type": "stream",
     "text": [
      "\n",
      "\n",
      "Indicateurs créés collaborativement"
     ]
    },
    {
     "data": {
      "text/html": [
       "<table class=\"dataframe\">\n",
       "<caption>A matrix: 3 × 2 of type dbl</caption>\n",
       "<thead>\n",
       "\t<tr><th></th><th scope=col>nb</th><th scope=col>pourc</th></tr>\n",
       "</thead>\n",
       "<tbody>\n",
       "\t<tr><th scope=row>Non défini (quanti ou quali possible)</th><td> 10</td><td> 5.9</td></tr>\n",
       "\t<tr><th scope=row>Qualitatif</th><td> 13</td><td> 7.7</td></tr>\n",
       "\t<tr><th scope=row>Quantitatif</th><td>146</td><td>86.4</td></tr>\n",
       "</tbody>\n",
       "</table>\n"
      ],
      "text/latex": [
       "A matrix: 3 × 2 of type dbl\n",
       "\\begin{tabular}{r|ll}\n",
       "  & nb & pourc\\\\\n",
       "\\hline\n",
       "\tNon défini (quanti ou quali possible) &  10 &  5.9\\\\\n",
       "\tQualitatif &  13 &  7.7\\\\\n",
       "\tQuantitatif & 146 & 86.4\\\\\n",
       "\\end{tabular}\n"
      ],
      "text/markdown": [
       "\n",
       "A matrix: 3 × 2 of type dbl\n",
       "\n",
       "| <!--/--> | nb | pourc |\n",
       "|---|---|---|\n",
       "| Non défini (quanti ou quali possible) |  10 |  5.9 |\n",
       "| Qualitatif |  13 |  7.7 |\n",
       "| Quantitatif | 146 | 86.4 |\n",
       "\n"
      ],
      "text/plain": [
       "                                      nb  pourc\n",
       "Non défini (quanti ou quali possible)  10  5.9 \n",
       "Qualitatif                             13  7.7 \n",
       "Quantitatif                           146 86.4 "
      ]
     },
     "metadata": {},
     "output_type": "display_data"
    }
   ],
   "source": [
    "cat(\"Quanti/quali vs Collab/indiv\\n\n",
    "Indicateurs créés individuellement\")\n",
    "cbind(nb=table(DI$qua_cons[DI$nb_coauteurs==1]),\n",
    "      pourc = round(100*table(DI$qua_cons[DI$nb_coauteurs==1])/sum(DI$nb_coauteurs==1),1))\n",
    "\n",
    "cat(\"\\n\n",
    "Indicateurs créés collaborativement\")\n",
    "\n",
    "cbind(nb = table(DI$qua_cons[DI$nb_coauteurs>1]),\n",
    "      pourc = round(100*table(DI$qua_cons[DI$nb_coauteurs>1])/sum(DI$nb_coauteurs>1),1))"
   ]
  },
  {
   "cell_type": "code",
   "execution_count": 38,
   "metadata": {},
   "outputs": [
    {
     "name": "stdout",
     "output_type": "stream",
     "text": [
      "Finalité/Process vs Collab/indiv\n",
      "\n",
      "Indicateurs créés individuellement"
     ]
    },
    {
     "data": {
      "text/html": [
       "<table class=\"dataframe\">\n",
       "<caption>A matrix: 2 × 2 of type dbl</caption>\n",
       "<thead>\n",
       "\t<tr><th></th><th scope=col>nb</th><th scope=col>pourc</th></tr>\n",
       "</thead>\n",
       "<tbody>\n",
       "\t<tr><th scope=row>Finalité</th><td>34</td><td>81</td></tr>\n",
       "\t<tr><th scope=row>Processus</th><td> 8</td><td>19</td></tr>\n",
       "</tbody>\n",
       "</table>\n"
      ],
      "text/latex": [
       "A matrix: 2 × 2 of type dbl\n",
       "\\begin{tabular}{r|ll}\n",
       "  & nb & pourc\\\\\n",
       "\\hline\n",
       "\tFinalité & 34 & 81\\\\\n",
       "\tProcessus &  8 & 19\\\\\n",
       "\\end{tabular}\n"
      ],
      "text/markdown": [
       "\n",
       "A matrix: 2 × 2 of type dbl\n",
       "\n",
       "| <!--/--> | nb | pourc |\n",
       "|---|---|---|\n",
       "| Finalité | 34 | 81 |\n",
       "| Processus |  8 | 19 |\n",
       "\n"
      ],
      "text/plain": [
       "          nb pourc\n",
       "Finalité  34 81   \n",
       "Processus  8 19   "
      ]
     },
     "metadata": {},
     "output_type": "display_data"
    },
    {
     "name": "stdout",
     "output_type": "stream",
     "text": [
      "\n",
      "\n",
      "Indicateurs créés collaborativement"
     ]
    },
    {
     "data": {
      "text/html": [
       "<table class=\"dataframe\">\n",
       "<caption>A matrix: 2 × 2 of type dbl</caption>\n",
       "<thead>\n",
       "\t<tr><th></th><th scope=col>nb</th><th scope=col>pourc</th></tr>\n",
       "</thead>\n",
       "<tbody>\n",
       "\t<tr><th scope=row>Finalité</th><td>97</td><td>69.8</td></tr>\n",
       "\t<tr><th scope=row>Processus</th><td>42</td><td>30.2</td></tr>\n",
       "</tbody>\n",
       "</table>\n"
      ],
      "text/latex": [
       "A matrix: 2 × 2 of type dbl\n",
       "\\begin{tabular}{r|ll}\n",
       "  & nb & pourc\\\\\n",
       "\\hline\n",
       "\tFinalité & 97 & 69.8\\\\\n",
       "\tProcessus & 42 & 30.2\\\\\n",
       "\\end{tabular}\n"
      ],
      "text/markdown": [
       "\n",
       "A matrix: 2 × 2 of type dbl\n",
       "\n",
       "| <!--/--> | nb | pourc |\n",
       "|---|---|---|\n",
       "| Finalité | 97 | 69.8 |\n",
       "| Processus | 42 | 30.2 |\n",
       "\n"
      ],
      "text/plain": [
       "          nb pourc\n",
       "Finalité  97 69.8 \n",
       "Processus 42 30.2 "
      ]
     },
     "metadata": {},
     "output_type": "display_data"
    }
   ],
   "source": [
    "#Final/Process vs Collab/indiv\n",
    "cat(\"Finalité/Process vs Collab/indiv\\n\n",
    "Indicateurs créés individuellement\")\n",
    "\n",
    "cbind(nb = table(DI$finpro_cons[DI$nb_coauteurs==1 & !is.na(DI$finpro_cons)]),\n",
    "      pourc = round(100*table(DI$finpro_cons[DI$nb_coauteurs==1 & !is.na(DI$finpro_cons)])/sum(DI$nb_coauteurs==1  & !is.na(DI$finpro_cons)),1))\n",
    "\n",
    "cat(\"\\n\n",
    "Indicateurs créés collaborativement\")\n",
    "\n",
    "cbind(nb = table(DI$finpro_cons[DI$nb_coauteurs>1  & !is.na(DI$finpro_cons)]),\n",
    "      pourc = round(100*table(DI$finpro_cons[DI$nb_coauteurs>1  & !is.na(DI$finpro_cons)])/sum(DI$nb_coauteurs>1  & !is.na(DI$finpro_cons)),1))"
   ]
  },
  {
   "cell_type": "markdown",
   "metadata": {},
   "source": [
    "# Accord inter-juges"
   ]
  },
  {
   "cell_type": "code",
   "execution_count": 39,
   "metadata": {},
   "outputs": [
    {
     "name": "stderr",
     "output_type": "stream",
     "text": [
      "Loading required package: grid\n",
      "\n",
      "gdata: read.xls support for 'XLS' (Excel 97-2004) files ENABLED.\n",
      "\n",
      "\n",
      "\n",
      "gdata: read.xls support for 'XLSX' (Excel 2007+) files ENABLED.\n",
      "\n",
      "\n",
      "Attaching package: ‘gdata’\n",
      "\n",
      "\n",
      "The following object is masked from ‘package:stats’:\n",
      "\n",
      "    nobs\n",
      "\n",
      "\n",
      "The following object is masked from ‘package:utils’:\n",
      "\n",
      "    object.size\n",
      "\n",
      "\n",
      "The following object is masked from ‘package:base’:\n",
      "\n",
      "    startsWith\n",
      "\n",
      "\n"
     ]
    }
   ],
   "source": [
    "library(vcd)\n",
    "library(gdata)"
   ]
  },
  {
   "cell_type": "code",
   "execution_count": 40,
   "metadata": {},
   "outputs": [
    {
     "name": "stdout",
     "output_type": "stream",
     "text": [
      "Version du package vcd"
     ]
    },
    {
     "data": {
      "text/plain": [
       "[1] ‘1.4.12’"
      ]
     },
     "metadata": {},
     "output_type": "display_data"
    }
   ],
   "source": [
    "cat(\"Version du package vcd\")\n",
    "    packageVersion(\"vcd\")"
   ]
  },
  {
   "cell_type": "markdown",
   "metadata": {},
   "source": [
    "### Clarté"
   ]
  },
  {
   "cell_type": "code",
   "execution_count": 41,
   "metadata": {},
   "outputs": [
    {
     "name": "stdout",
     "output_type": "stream",
     "text": [
      "Kappa clarté - unweighted value"
     ]
    },
    {
     "data": {
      "text/plain": [
       "             value     ASE      z Pr(>|z|)\n",
       "Unweighted 0.05957 0.09997 0.5959   0.5512\n",
       "Weighted   0.05957 0.09997 0.5959   0.5512"
      ]
     },
     "metadata": {},
     "output_type": "display_data"
    }
   ],
   "source": [
    "T <- as.table(table(DTI$clarte_rev1[!is.na(DTI$clarte_rev1) & !is.na(DTI$clarte_rev2)],\n",
    "                    DTI$clarte_rev2[!is.na(DTI$clarte_rev1) & !is.na(DTI$clarte_rev2)]))\n",
    "cat(\"Kappa clarté - unweighted value\")\n",
    "Kappa(T)"
   ]
  },
  {
   "cell_type": "code",
   "execution_count": 42,
   "metadata": {},
   "outputs": [
    {
     "name": "stdout",
     "output_type": "stream",
     "text": [
      "PABAK clarté: 0.825641 \n"
     ]
    }
   ],
   "source": [
    "# Total number of observations\n",
    "n <- sum(T)\n",
    "# Observed agreement (sum of diagonal values)\n",
    "observed_agreement <- sum(diag(T)) / n\n",
    "# Calculate PABAK\n",
    "PABAK <- 2 * observed_agreement - 1\n",
    "# Print the PABAK value\n",
    "cat(\"PABAK clarté:\", PABAK, \"\\n\")"
   ]
  },
  {
   "cell_type": "markdown",
   "metadata": {},
   "source": [
    "### Cible"
   ]
  },
  {
   "cell_type": "code",
   "execution_count": 43,
   "metadata": {},
   "outputs": [
    {
     "name": "stdout",
     "output_type": "stream",
     "text": [
      "Kappa cible - unweighted value"
     ]
    },
    {
     "data": {
      "text/plain": [
       "            value    ASE     z Pr(>|z|)\n",
       "Unweighted 0.3675 0.1042 3.527  0.00042\n",
       "Weighted   0.3675 0.1042 3.527  0.00042"
      ]
     },
     "metadata": {},
     "output_type": "display_data"
    }
   ],
   "source": [
    "T <- as.table(table(DTI$cible_rev1[!is.na(DTI$cible_rev1) & !is.na(DTI$cible_rev2)],\n",
    "                    DTI$cible_rev2[!is.na(DTI$cible_rev1) & !is.na(DTI$cible_rev2)]))\n",
    "cat(\"Kappa cible - unweighted value\")\n",
    "Kappa(T)"
   ]
  },
  {
   "cell_type": "code",
   "execution_count": 44,
   "metadata": {},
   "outputs": [
    {
     "name": "stdout",
     "output_type": "stream",
     "text": [
      "PABAK cible: 0.7386364 \n"
     ]
    }
   ],
   "source": [
    "# Total number of observations\n",
    "n <- sum(T)\n",
    "# Observed agreement (sum of diagonal values)\n",
    "observed_agreement <- sum(diag(T)) / n\n",
    "# Calculate PABAK\n",
    "PABAK <- 2 * observed_agreement - 1\n",
    "# Print the PABAK value\n",
    "cat(\"PABAK cible:\", PABAK, \"\\n\")"
   ]
  },
  {
   "cell_type": "markdown",
   "metadata": {},
   "source": [
    "### Quanti vs quali"
   ]
  },
  {
   "cell_type": "code",
   "execution_count": 45,
   "metadata": {},
   "outputs": [
    {
     "name": "stdout",
     "output_type": "stream",
     "text": [
      "Kappa quanti vs quali - unweighted value"
     ]
    },
    {
     "data": {
      "text/plain": [
       "            value     ASE     z  Pr(>|z|)\n",
       "Unweighted 0.4619 0.08738 5.286 1.248e-07\n",
       "Weighted   0.4456 0.08532 5.222 1.766e-07"
      ]
     },
     "metadata": {},
     "output_type": "display_data"
    }
   ],
   "source": [
    "T <- as.table(table(DTI$qua_rev1[!is.na(DTI$qua_rev1) & !is.na(DTI$qua_rev2)],\n",
    "                    DTI$qua_rev2[!is.na(DTI$qua_rev1) & !is.na(DTI$qua_rev2)]))\n",
    "cat(\"Kappa quanti vs quali - unweighted value\")\n",
    "Kappa(T)"
   ]
  },
  {
   "cell_type": "code",
   "execution_count": 46,
   "metadata": {},
   "outputs": [
    {
     "name": "stdout",
     "output_type": "stream",
     "text": [
      "PABAK quanti/quali: 0.7471264 \n"
     ]
    }
   ],
   "source": [
    "# Total number of observations\n",
    "n <- sum(T)\n",
    "# Observed agreement (sum of diagonal values)\n",
    "observed_agreement <- sum(diag(T)) / n\n",
    "# Calculate PABAK\n",
    "PABAK <- 2 * observed_agreement - 1\n",
    "# Print the PABAK value\n",
    "cat(\"PABAK quanti/quali:\", PABAK, \"\\n\")"
   ]
  },
  {
   "cell_type": "markdown",
   "metadata": {},
   "source": [
    "### Finalité vs process"
   ]
  },
  {
   "cell_type": "code",
   "execution_count": 47,
   "metadata": {},
   "outputs": [
    {
     "name": "stdout",
     "output_type": "stream",
     "text": [
      "Kappa finalité vs process - unweighted value"
     ]
    },
    {
     "data": {
      "text/plain": [
       "            value     ASE     z  Pr(>|z|)\n",
       "Unweighted 0.4117 0.08273 4.976 6.482e-07\n",
       "Weighted   0.4117 0.08273 4.976 6.482e-07"
      ]
     },
     "metadata": {},
     "output_type": "display_data"
    }
   ],
   "source": [
    "T <- as.table(table(DTI$finpro_rev1[!is.na(DTI$finpro_rev1) & !is.na(DTI$finpro_rev2)],\n",
    "                    DTI$finpro_rev2[!is.na(DTI$finpro_rev1) & !is.na(DTI$finpro_rev2)]))\n",
    "cat(\"Kappa finalité vs process - unweighted value\")\n",
    "Kappa(T)"
   ]
  },
  {
   "cell_type": "code",
   "execution_count": 48,
   "metadata": {},
   "outputs": [
    {
     "name": "stdout",
     "output_type": "stream",
     "text": [
      "PABAK finalité vs process: 0.5205479 \n"
     ]
    }
   ],
   "source": [
    "# Total number of observations\n",
    "n <- sum(T)\n",
    "# Observed agreement (sum of diagonal values)\n",
    "observed_agreement <- sum(diag(T)) / n\n",
    "# Calculate PABAK\n",
    "PABAK <- 2 * observed_agreement - 1\n",
    "# Print the PABAK value\n",
    "cat(\"PABAK finalité vs process:\", PABAK, \"\\n\")"
   ]
  },
  {
   "cell_type": "markdown",
   "metadata": {},
   "source": [
    "### Thématiques Défis"
   ]
  },
  {
   "cell_type": "code",
   "execution_count": 49,
   "metadata": {},
   "outputs": [
    {
     "data": {
      "text/html": [
       "<style>\n",
       ".list-inline {list-style: none; margin:0; padding: 0}\n",
       ".list-inline>li {display: inline-block}\n",
       ".list-inline>li:not(:last-child)::after {content: \"\\00b7\"; padding: 0 .5ex}\n",
       "</style>\n",
       "<ol class=list-inline><li>'Engager les élèves / étudiants dans les tâches d’apprentissage'</li><li>'Gérer les comportements'</li><li>'Rendre visible les résultats d’apprentissage des élèves / étudiant·es'</li><li>'Traiter les sujets du programme de façon compréhensible pour les élèves / étudiant·es'</li></ol>\n"
      ],
      "text/latex": [
       "\\begin{enumerate*}\n",
       "\\item 'Engager les élèves / étudiants dans les tâches d’apprentissage'\n",
       "\\item 'Gérer les comportements'\n",
       "\\item 'Rendre visible les résultats d’apprentissage des élèves / étudiant·es'\n",
       "\\item 'Traiter les sujets du programme de façon compréhensible pour les élèves / étudiant·es'\n",
       "\\end{enumerate*}\n"
      ],
      "text/markdown": [
       "1. 'Engager les élèves / étudiants dans les tâches d’apprentissage'\n",
       "2. 'Gérer les comportements'\n",
       "3. 'Rendre visible les résultats d’apprentissage des élèves / étudiant·es'\n",
       "4. 'Traiter les sujets du programme de façon compréhensible pour les élèves / étudiant·es'\n",
       "\n",
       "\n"
      ],
      "text/plain": [
       "[1] \"Engager les élèves / étudiants dans les tâches d’apprentissage\"                       \n",
       "[2] \"Gérer les comportements\"                                                              \n",
       "[3] \"Rendre visible les résultats d’apprentissage des élèves / étudiant·es\"                \n",
       "[4] \"Traiter les sujets du programme de façon compréhensible pour les élèves / étudiant·es\""
      ]
     },
     "metadata": {},
     "output_type": "display_data"
    },
    {
     "data": {
      "text/html": [
       "<style>\n",
       ".list-inline {list-style: none; margin:0; padding: 0}\n",
       ".list-inline>li {display: inline-block}\n",
       ".list-inline>li:not(:last-child)::after {content: \"\\00b7\"; padding: 0 .5ex}\n",
       "</style>\n",
       "<ol class=list-inline><li>'Autre'</li><li>'Engager les élèves / étudiants dans les tâches d’apprentissage'</li><li>'Gérer les comportements'</li><li>'Rendre visible les résultats d’apprentissage des élèves / étudiant·es'</li><li>'Traiter les sujets du programme de façon compréhensible pour les élèves / étudiant·es'</li></ol>\n"
      ],
      "text/latex": [
       "\\begin{enumerate*}\n",
       "\\item 'Autre'\n",
       "\\item 'Engager les élèves / étudiants dans les tâches d’apprentissage'\n",
       "\\item 'Gérer les comportements'\n",
       "\\item 'Rendre visible les résultats d’apprentissage des élèves / étudiant·es'\n",
       "\\item 'Traiter les sujets du programme de façon compréhensible pour les élèves / étudiant·es'\n",
       "\\end{enumerate*}\n"
      ],
      "text/markdown": [
       "1. 'Autre'\n",
       "2. 'Engager les élèves / étudiants dans les tâches d’apprentissage'\n",
       "3. 'Gérer les comportements'\n",
       "4. 'Rendre visible les résultats d’apprentissage des élèves / étudiant·es'\n",
       "5. 'Traiter les sujets du programme de façon compréhensible pour les élèves / étudiant·es'\n",
       "\n",
       "\n"
      ],
      "text/plain": [
       "[1] \"Autre\"                                                                                \n",
       "[2] \"Engager les élèves / étudiants dans les tâches d’apprentissage\"                       \n",
       "[3] \"Gérer les comportements\"                                                              \n",
       "[4] \"Rendre visible les résultats d’apprentissage des élèves / étudiant·es\"                \n",
       "[5] \"Traiter les sujets du programme de façon compréhensible pour les élèves / étudiant·es\""
      ]
     },
     "metadata": {},
     "output_type": "display_data"
    }
   ],
   "source": [
    "levels(DD$cat_defi_rev1)\n",
    "levels(DD$cat_defi_rev2)"
   ]
  },
  {
   "cell_type": "code",
   "execution_count": 50,
   "metadata": {},
   "outputs": [],
   "source": [
    "#On ajoute le niveau \"Autre\" dans les réponses de l'anotateur 1\n",
    "levels(DD$cat_defi_rev1) <- c(levels(DD$cat_defi_rev1), 'Autre')"
   ]
  },
  {
   "cell_type": "code",
   "execution_count": 51,
   "metadata": {},
   "outputs": [],
   "source": [
    "#On met les niveaux dans le même ordre\n",
    "DD$cat_defi_rev1 <- reorder(DD$cat_defi_rev1, new.order = levels(DD$cat_defi_rev2))"
   ]
  },
  {
   "cell_type": "code",
   "execution_count": 52,
   "metadata": {},
   "outputs": [
    {
     "name": "stdout",
     "output_type": "stream",
     "text": [
      "Kappa catégories défis - unweighted value"
     ]
    },
    {
     "data": {
      "text/plain": [
       "            value    ASE     z  Pr(>|z|)\n",
       "Unweighted 0.4978 0.1173 4.245 2.186e-05\n",
       "Weighted   0.5079 0.1258 4.038 5.395e-05"
      ]
     },
     "metadata": {},
     "output_type": "display_data"
    }
   ],
   "source": [
    "T <- as.table(table(DD$cat_defi_rev1,DD$cat_defi_rev2))\n",
    "cat(\"Kappa catégories défis - unweighted value\")\n",
    "Kappa(T)"
   ]
  },
  {
   "cell_type": "code",
   "execution_count": 53,
   "metadata": {},
   "outputs": [
    {
     "name": "stdout",
     "output_type": "stream",
     "text": [
      "PABAK catégories défis: 0.2903226 \n"
     ]
    }
   ],
   "source": [
    "# Total number of observations\n",
    "n <- sum(T)\n",
    "# Observed agreement (sum of diagonal values)\n",
    "observed_agreement <- sum(diag(T)) / n\n",
    "# Calculate PABAK\n",
    "PABAK <- 2 * observed_agreement - 1\n",
    "# Print the PABAK value\n",
    "cat(\"PABAK catégories défis:\", PABAK, \"\\n\")"
   ]
  },
  {
   "cell_type": "code",
   "execution_count": null,
   "metadata": {},
   "outputs": [],
   "source": []
  }
 ],
 "metadata": {
  "kernelspec": {
   "display_name": "R",
   "language": "R",
   "name": "ir"
  },
  "language_info": {
   "codemirror_mode": "r",
   "file_extension": ".r",
   "mimetype": "text/x-r-source",
   "name": "R",
   "pygments_lexer": "r",
   "version": "3.6.3"
  }
 },
 "nbformat": 4,
 "nbformat_minor": 2
}
